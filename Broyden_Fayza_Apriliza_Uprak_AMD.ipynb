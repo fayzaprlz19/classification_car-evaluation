{
  "nbformat": 4,
  "nbformat_minor": 0,
  "metadata": {
    "colab": {
      "provenance": [],
      "toc_visible": true
    },
    "kernelspec": {
      "name": "python3",
      "display_name": "Python 3"
    },
    "language_info": {
      "name": "python"
    }
  },
  "cells": [
    {
      "cell_type": "markdown",
      "source": [
        "## 1. Import Libraries"
      ],
      "metadata": {
        "id": "zRlwbphcn_1g"
      }
    },
    {
      "cell_type": "code",
      "execution_count": 415,
      "metadata": {
        "id": "XYPT_kzcn9kv"
      },
      "outputs": [],
      "source": [
        "import pandas as pd\n",
        "import numpy as np\n",
        "import matplotlib.pyplot as plt\n",
        "import seaborn as sns\n",
        "%matplotlib inline"
      ]
    },
    {
      "cell_type": "code",
      "source": [
        "import warnings\n",
        "\n",
        "warnings.filterwarnings('ignore')"
      ],
      "metadata": {
        "id": "nz4TBAa9oD3J"
      },
      "execution_count": 416,
      "outputs": []
    },
    {
      "cell_type": "markdown",
      "source": [
        "## 2. Download Dataset\n"
      ],
      "metadata": {
        "id": "8_lzOxB_oRqz"
      }
    },
    {
      "cell_type": "code",
      "source": [
        "!wget https://raw.githubusercontent.com/Wayan123/dataset-ml/main/car_evaluation.csv"
      ],
      "metadata": {
        "colab": {
          "base_uri": "https://localhost:8080/"
        },
        "id": "iwfM89AHoPo1",
        "outputId": "25b4c36b-9c42-4672-db30-f18a2d223f36"
      },
      "execution_count": 417,
      "outputs": [
        {
          "output_type": "stream",
          "name": "stdout",
          "text": [
            "--2023-03-02 16:40:15--  https://raw.githubusercontent.com/Wayan123/dataset-ml/main/car_evaluation.csv\n",
            "Resolving raw.githubusercontent.com (raw.githubusercontent.com)... 185.199.108.133, 185.199.109.133, 185.199.110.133, ...\n",
            "Connecting to raw.githubusercontent.com (raw.githubusercontent.com)|185.199.108.133|:443... connected.\n",
            "HTTP request sent, awaiting response... 200 OK\n",
            "Length: 53593 (52K) [text/plain]\n",
            "Saving to: ‘car_evaluation.csv.1’\n",
            "\n",
            "\rcar_evaluation.csv.   0%[                    ]       0  --.-KB/s               \rcar_evaluation.csv. 100%[===================>]  52.34K  --.-KB/s    in 0.001s  \n",
            "\n",
            "2023-03-02 16:40:15 (48.8 MB/s) - ‘car_evaluation.csv.1’ saved [53593/53593]\n",
            "\n"
          ]
        }
      ]
    },
    {
      "cell_type": "markdown",
      "source": [
        "## 3. Import Dataset"
      ],
      "metadata": {
        "id": "vi7dzKSpoX6L"
      }
    },
    {
      "cell_type": "code",
      "source": [
        "data = 'car_evaluation.csv'\n",
        "\n",
        "df = pd.read_csv(data, header=None)"
      ],
      "metadata": {
        "id": "ZUukUActoTfI"
      },
      "execution_count": 418,
      "outputs": []
    },
    {
      "cell_type": "markdown",
      "source": [
        "## 4. Exploratory Data Analysis\n",
        "\n",
        "Now, I will explore the data to gain insights about the data. "
      ],
      "metadata": {
        "id": "o0zpPFP9odMp"
      }
    },
    {
      "cell_type": "markdown",
      "source": [
        "### 4.1. Checks dimensions of dataset"
      ],
      "metadata": {
        "id": "hUOhopDyowc_"
      }
    },
    {
      "cell_type": "code",
      "source": [
        "# view dimensions of dataset\n",
        "\n",
        "df.shape"
      ],
      "metadata": {
        "colab": {
          "base_uri": "https://localhost:8080/"
        },
        "id": "tHf1Y8j8obHb",
        "outputId": "92232c2f-0f22-4a50-a744-58fe48bb4558"
      },
      "execution_count": 419,
      "outputs": [
        {
          "output_type": "execute_result",
          "data": {
            "text/plain": [
              "(1728, 7)"
            ]
          },
          "metadata": {},
          "execution_count": 419
        }
      ]
    },
    {
      "cell_type": "markdown",
      "source": [
        "We can see that there are 1728 instances and 7 variables in the data set."
      ],
      "metadata": {
        "id": "2O0gT_iCpDKr"
      }
    },
    {
      "cell_type": "markdown",
      "source": [
        "### 4.2. View top 5 rows of dataset"
      ],
      "metadata": {
        "id": "urfA5sKvpGaq"
      }
    },
    {
      "cell_type": "code",
      "source": [
        "# preview the dataset\n",
        "\n",
        "df.head()"
      ],
      "metadata": {
        "colab": {
          "base_uri": "https://localhost:8080/",
          "height": 206
        },
        "id": "HzBzoyOTpBbS",
        "outputId": "d6790db5-ba3e-4583-f1fe-75894de0c813"
      },
      "execution_count": 420,
      "outputs": [
        {
          "output_type": "execute_result",
          "data": {
            "text/plain": [
              "       0      1  2  3      4     5      6\n",
              "0  vhigh  vhigh  2  2  small   low  unacc\n",
              "1  vhigh  vhigh  2  2  small   med  unacc\n",
              "2  vhigh  vhigh  2  2  small  high  unacc\n",
              "3  vhigh  vhigh  2  2    med   low  unacc\n",
              "4  vhigh  vhigh  2  2    med   med  unacc"
            ],
            "text/html": [
              "\n",
              "  <div id=\"df-921775f3-2afc-457b-9277-579447ed57e0\">\n",
              "    <div class=\"colab-df-container\">\n",
              "      <div>\n",
              "<style scoped>\n",
              "    .dataframe tbody tr th:only-of-type {\n",
              "        vertical-align: middle;\n",
              "    }\n",
              "\n",
              "    .dataframe tbody tr th {\n",
              "        vertical-align: top;\n",
              "    }\n",
              "\n",
              "    .dataframe thead th {\n",
              "        text-align: right;\n",
              "    }\n",
              "</style>\n",
              "<table border=\"1\" class=\"dataframe\">\n",
              "  <thead>\n",
              "    <tr style=\"text-align: right;\">\n",
              "      <th></th>\n",
              "      <th>0</th>\n",
              "      <th>1</th>\n",
              "      <th>2</th>\n",
              "      <th>3</th>\n",
              "      <th>4</th>\n",
              "      <th>5</th>\n",
              "      <th>6</th>\n",
              "    </tr>\n",
              "  </thead>\n",
              "  <tbody>\n",
              "    <tr>\n",
              "      <th>0</th>\n",
              "      <td>vhigh</td>\n",
              "      <td>vhigh</td>\n",
              "      <td>2</td>\n",
              "      <td>2</td>\n",
              "      <td>small</td>\n",
              "      <td>low</td>\n",
              "      <td>unacc</td>\n",
              "    </tr>\n",
              "    <tr>\n",
              "      <th>1</th>\n",
              "      <td>vhigh</td>\n",
              "      <td>vhigh</td>\n",
              "      <td>2</td>\n",
              "      <td>2</td>\n",
              "      <td>small</td>\n",
              "      <td>med</td>\n",
              "      <td>unacc</td>\n",
              "    </tr>\n",
              "    <tr>\n",
              "      <th>2</th>\n",
              "      <td>vhigh</td>\n",
              "      <td>vhigh</td>\n",
              "      <td>2</td>\n",
              "      <td>2</td>\n",
              "      <td>small</td>\n",
              "      <td>high</td>\n",
              "      <td>unacc</td>\n",
              "    </tr>\n",
              "    <tr>\n",
              "      <th>3</th>\n",
              "      <td>vhigh</td>\n",
              "      <td>vhigh</td>\n",
              "      <td>2</td>\n",
              "      <td>2</td>\n",
              "      <td>med</td>\n",
              "      <td>low</td>\n",
              "      <td>unacc</td>\n",
              "    </tr>\n",
              "    <tr>\n",
              "      <th>4</th>\n",
              "      <td>vhigh</td>\n",
              "      <td>vhigh</td>\n",
              "      <td>2</td>\n",
              "      <td>2</td>\n",
              "      <td>med</td>\n",
              "      <td>med</td>\n",
              "      <td>unacc</td>\n",
              "    </tr>\n",
              "  </tbody>\n",
              "</table>\n",
              "</div>\n",
              "      <button class=\"colab-df-convert\" onclick=\"convertToInteractive('df-921775f3-2afc-457b-9277-579447ed57e0')\"\n",
              "              title=\"Convert this dataframe to an interactive table.\"\n",
              "              style=\"display:none;\">\n",
              "        \n",
              "  <svg xmlns=\"http://www.w3.org/2000/svg\" height=\"24px\"viewBox=\"0 0 24 24\"\n",
              "       width=\"24px\">\n",
              "    <path d=\"M0 0h24v24H0V0z\" fill=\"none\"/>\n",
              "    <path d=\"M18.56 5.44l.94 2.06.94-2.06 2.06-.94-2.06-.94-.94-2.06-.94 2.06-2.06.94zm-11 1L8.5 8.5l.94-2.06 2.06-.94-2.06-.94L8.5 2.5l-.94 2.06-2.06.94zm10 10l.94 2.06.94-2.06 2.06-.94-2.06-.94-.94-2.06-.94 2.06-2.06.94z\"/><path d=\"M17.41 7.96l-1.37-1.37c-.4-.4-.92-.59-1.43-.59-.52 0-1.04.2-1.43.59L10.3 9.45l-7.72 7.72c-.78.78-.78 2.05 0 2.83L4 21.41c.39.39.9.59 1.41.59.51 0 1.02-.2 1.41-.59l7.78-7.78 2.81-2.81c.8-.78.8-2.07 0-2.86zM5.41 20L4 18.59l7.72-7.72 1.47 1.35L5.41 20z\"/>\n",
              "  </svg>\n",
              "      </button>\n",
              "      \n",
              "  <style>\n",
              "    .colab-df-container {\n",
              "      display:flex;\n",
              "      flex-wrap:wrap;\n",
              "      gap: 12px;\n",
              "    }\n",
              "\n",
              "    .colab-df-convert {\n",
              "      background-color: #E8F0FE;\n",
              "      border: none;\n",
              "      border-radius: 50%;\n",
              "      cursor: pointer;\n",
              "      display: none;\n",
              "      fill: #1967D2;\n",
              "      height: 32px;\n",
              "      padding: 0 0 0 0;\n",
              "      width: 32px;\n",
              "    }\n",
              "\n",
              "    .colab-df-convert:hover {\n",
              "      background-color: #E2EBFA;\n",
              "      box-shadow: 0px 1px 2px rgba(60, 64, 67, 0.3), 0px 1px 3px 1px rgba(60, 64, 67, 0.15);\n",
              "      fill: #174EA6;\n",
              "    }\n",
              "\n",
              "    [theme=dark] .colab-df-convert {\n",
              "      background-color: #3B4455;\n",
              "      fill: #D2E3FC;\n",
              "    }\n",
              "\n",
              "    [theme=dark] .colab-df-convert:hover {\n",
              "      background-color: #434B5C;\n",
              "      box-shadow: 0px 1px 3px 1px rgba(0, 0, 0, 0.15);\n",
              "      filter: drop-shadow(0px 1px 2px rgba(0, 0, 0, 0.3));\n",
              "      fill: #FFFFFF;\n",
              "    }\n",
              "  </style>\n",
              "\n",
              "      <script>\n",
              "        const buttonEl =\n",
              "          document.querySelector('#df-921775f3-2afc-457b-9277-579447ed57e0 button.colab-df-convert');\n",
              "        buttonEl.style.display =\n",
              "          google.colab.kernel.accessAllowed ? 'block' : 'none';\n",
              "\n",
              "        async function convertToInteractive(key) {\n",
              "          const element = document.querySelector('#df-921775f3-2afc-457b-9277-579447ed57e0');\n",
              "          const dataTable =\n",
              "            await google.colab.kernel.invokeFunction('convertToInteractive',\n",
              "                                                     [key], {});\n",
              "          if (!dataTable) return;\n",
              "\n",
              "          const docLinkHtml = 'Like what you see? Visit the ' +\n",
              "            '<a target=\"_blank\" href=https://colab.research.google.com/notebooks/data_table.ipynb>data table notebook</a>'\n",
              "            + ' to learn more about interactive tables.';\n",
              "          element.innerHTML = '';\n",
              "          dataTable['output_type'] = 'display_data';\n",
              "          await google.colab.output.renderOutput(dataTable, element);\n",
              "          const docLink = document.createElement('div');\n",
              "          docLink.innerHTML = docLinkHtml;\n",
              "          element.appendChild(docLink);\n",
              "        }\n",
              "      </script>\n",
              "    </div>\n",
              "  </div>\n",
              "  "
            ]
          },
          "metadata": {},
          "execution_count": 420
        }
      ]
    },
    {
      "cell_type": "markdown",
      "source": [
        "### 4.3. Rename column names\n",
        "\n",
        "We can see that the dataset does not have proper column names. The columns are merely labelled as 0,1,2.... and so on. We should give proper names to the columns. I will do it as follows:-"
      ],
      "metadata": {
        "id": "y800Li6DpSWD"
      }
    },
    {
      "cell_type": "code",
      "source": [
        "col_names = ['buying', 'maint', 'doors', 'persons', 'lug_boot', 'safety', 'class']\n",
        "\n",
        "\n",
        "df.columns = col_names\n",
        "\n",
        "col_names"
      ],
      "metadata": {
        "colab": {
          "base_uri": "https://localhost:8080/"
        },
        "id": "pLGXGFKHpQhp",
        "outputId": "2b03ae2d-12ee-4476-f246-d49e4f863d42"
      },
      "execution_count": 421,
      "outputs": [
        {
          "output_type": "execute_result",
          "data": {
            "text/plain": [
              "['buying', 'maint', 'doors', 'persons', 'lug_boot', 'safety', 'class']"
            ]
          },
          "metadata": {},
          "execution_count": 421
        }
      ]
    },
    {
      "cell_type": "code",
      "source": [
        "# let's again preview the dataset\n",
        "\n",
        "df.head()"
      ],
      "metadata": {
        "colab": {
          "base_uri": "https://localhost:8080/",
          "height": 206
        },
        "id": "pi6qTHuYpdxG",
        "outputId": "d6056343-3a2f-4843-f2ab-f685487e0917"
      },
      "execution_count": 422,
      "outputs": [
        {
          "output_type": "execute_result",
          "data": {
            "text/plain": [
              "  buying  maint doors persons lug_boot safety  class\n",
              "0  vhigh  vhigh     2       2    small    low  unacc\n",
              "1  vhigh  vhigh     2       2    small    med  unacc\n",
              "2  vhigh  vhigh     2       2    small   high  unacc\n",
              "3  vhigh  vhigh     2       2      med    low  unacc\n",
              "4  vhigh  vhigh     2       2      med    med  unacc"
            ],
            "text/html": [
              "\n",
              "  <div id=\"df-79c73184-284c-4430-8c19-f7567cf6ce09\">\n",
              "    <div class=\"colab-df-container\">\n",
              "      <div>\n",
              "<style scoped>\n",
              "    .dataframe tbody tr th:only-of-type {\n",
              "        vertical-align: middle;\n",
              "    }\n",
              "\n",
              "    .dataframe tbody tr th {\n",
              "        vertical-align: top;\n",
              "    }\n",
              "\n",
              "    .dataframe thead th {\n",
              "        text-align: right;\n",
              "    }\n",
              "</style>\n",
              "<table border=\"1\" class=\"dataframe\">\n",
              "  <thead>\n",
              "    <tr style=\"text-align: right;\">\n",
              "      <th></th>\n",
              "      <th>buying</th>\n",
              "      <th>maint</th>\n",
              "      <th>doors</th>\n",
              "      <th>persons</th>\n",
              "      <th>lug_boot</th>\n",
              "      <th>safety</th>\n",
              "      <th>class</th>\n",
              "    </tr>\n",
              "  </thead>\n",
              "  <tbody>\n",
              "    <tr>\n",
              "      <th>0</th>\n",
              "      <td>vhigh</td>\n",
              "      <td>vhigh</td>\n",
              "      <td>2</td>\n",
              "      <td>2</td>\n",
              "      <td>small</td>\n",
              "      <td>low</td>\n",
              "      <td>unacc</td>\n",
              "    </tr>\n",
              "    <tr>\n",
              "      <th>1</th>\n",
              "      <td>vhigh</td>\n",
              "      <td>vhigh</td>\n",
              "      <td>2</td>\n",
              "      <td>2</td>\n",
              "      <td>small</td>\n",
              "      <td>med</td>\n",
              "      <td>unacc</td>\n",
              "    </tr>\n",
              "    <tr>\n",
              "      <th>2</th>\n",
              "      <td>vhigh</td>\n",
              "      <td>vhigh</td>\n",
              "      <td>2</td>\n",
              "      <td>2</td>\n",
              "      <td>small</td>\n",
              "      <td>high</td>\n",
              "      <td>unacc</td>\n",
              "    </tr>\n",
              "    <tr>\n",
              "      <th>3</th>\n",
              "      <td>vhigh</td>\n",
              "      <td>vhigh</td>\n",
              "      <td>2</td>\n",
              "      <td>2</td>\n",
              "      <td>med</td>\n",
              "      <td>low</td>\n",
              "      <td>unacc</td>\n",
              "    </tr>\n",
              "    <tr>\n",
              "      <th>4</th>\n",
              "      <td>vhigh</td>\n",
              "      <td>vhigh</td>\n",
              "      <td>2</td>\n",
              "      <td>2</td>\n",
              "      <td>med</td>\n",
              "      <td>med</td>\n",
              "      <td>unacc</td>\n",
              "    </tr>\n",
              "  </tbody>\n",
              "</table>\n",
              "</div>\n",
              "      <button class=\"colab-df-convert\" onclick=\"convertToInteractive('df-79c73184-284c-4430-8c19-f7567cf6ce09')\"\n",
              "              title=\"Convert this dataframe to an interactive table.\"\n",
              "              style=\"display:none;\">\n",
              "        \n",
              "  <svg xmlns=\"http://www.w3.org/2000/svg\" height=\"24px\"viewBox=\"0 0 24 24\"\n",
              "       width=\"24px\">\n",
              "    <path d=\"M0 0h24v24H0V0z\" fill=\"none\"/>\n",
              "    <path d=\"M18.56 5.44l.94 2.06.94-2.06 2.06-.94-2.06-.94-.94-2.06-.94 2.06-2.06.94zm-11 1L8.5 8.5l.94-2.06 2.06-.94-2.06-.94L8.5 2.5l-.94 2.06-2.06.94zm10 10l.94 2.06.94-2.06 2.06-.94-2.06-.94-.94-2.06-.94 2.06-2.06.94z\"/><path d=\"M17.41 7.96l-1.37-1.37c-.4-.4-.92-.59-1.43-.59-.52 0-1.04.2-1.43.59L10.3 9.45l-7.72 7.72c-.78.78-.78 2.05 0 2.83L4 21.41c.39.39.9.59 1.41.59.51 0 1.02-.2 1.41-.59l7.78-7.78 2.81-2.81c.8-.78.8-2.07 0-2.86zM5.41 20L4 18.59l7.72-7.72 1.47 1.35L5.41 20z\"/>\n",
              "  </svg>\n",
              "      </button>\n",
              "      \n",
              "  <style>\n",
              "    .colab-df-container {\n",
              "      display:flex;\n",
              "      flex-wrap:wrap;\n",
              "      gap: 12px;\n",
              "    }\n",
              "\n",
              "    .colab-df-convert {\n",
              "      background-color: #E8F0FE;\n",
              "      border: none;\n",
              "      border-radius: 50%;\n",
              "      cursor: pointer;\n",
              "      display: none;\n",
              "      fill: #1967D2;\n",
              "      height: 32px;\n",
              "      padding: 0 0 0 0;\n",
              "      width: 32px;\n",
              "    }\n",
              "\n",
              "    .colab-df-convert:hover {\n",
              "      background-color: #E2EBFA;\n",
              "      box-shadow: 0px 1px 2px rgba(60, 64, 67, 0.3), 0px 1px 3px 1px rgba(60, 64, 67, 0.15);\n",
              "      fill: #174EA6;\n",
              "    }\n",
              "\n",
              "    [theme=dark] .colab-df-convert {\n",
              "      background-color: #3B4455;\n",
              "      fill: #D2E3FC;\n",
              "    }\n",
              "\n",
              "    [theme=dark] .colab-df-convert:hover {\n",
              "      background-color: #434B5C;\n",
              "      box-shadow: 0px 1px 3px 1px rgba(0, 0, 0, 0.15);\n",
              "      filter: drop-shadow(0px 1px 2px rgba(0, 0, 0, 0.3));\n",
              "      fill: #FFFFFF;\n",
              "    }\n",
              "  </style>\n",
              "\n",
              "      <script>\n",
              "        const buttonEl =\n",
              "          document.querySelector('#df-79c73184-284c-4430-8c19-f7567cf6ce09 button.colab-df-convert');\n",
              "        buttonEl.style.display =\n",
              "          google.colab.kernel.accessAllowed ? 'block' : 'none';\n",
              "\n",
              "        async function convertToInteractive(key) {\n",
              "          const element = document.querySelector('#df-79c73184-284c-4430-8c19-f7567cf6ce09');\n",
              "          const dataTable =\n",
              "            await google.colab.kernel.invokeFunction('convertToInteractive',\n",
              "                                                     [key], {});\n",
              "          if (!dataTable) return;\n",
              "\n",
              "          const docLinkHtml = 'Like what you see? Visit the ' +\n",
              "            '<a target=\"_blank\" href=https://colab.research.google.com/notebooks/data_table.ipynb>data table notebook</a>'\n",
              "            + ' to learn more about interactive tables.';\n",
              "          element.innerHTML = '';\n",
              "          dataTable['output_type'] = 'display_data';\n",
              "          await google.colab.output.renderOutput(dataTable, element);\n",
              "          const docLink = document.createElement('div');\n",
              "          docLink.innerHTML = docLinkHtml;\n",
              "          element.appendChild(docLink);\n",
              "        }\n",
              "      </script>\n",
              "    </div>\n",
              "  </div>\n",
              "  "
            ]
          },
          "metadata": {},
          "execution_count": 422
        }
      ]
    },
    {
      "cell_type": "markdown",
      "source": [
        "We can see that the column names are renamed. Now, the columns have meaningful names."
      ],
      "metadata": {
        "id": "mod4zRs4phN4"
      }
    },
    {
      "cell_type": "markdown",
      "source": [
        "### 4.4. View Summary of Data"
      ],
      "metadata": {
        "id": "E9B8suaZpjvB"
      }
    },
    {
      "cell_type": "code",
      "source": [
        "df.info()"
      ],
      "metadata": {
        "colab": {
          "base_uri": "https://localhost:8080/"
        },
        "id": "KA52wQ2upfC0",
        "outputId": "ef985154-da77-45ee-d1e8-373f9bb53a39"
      },
      "execution_count": 423,
      "outputs": [
        {
          "output_type": "stream",
          "name": "stdout",
          "text": [
            "<class 'pandas.core.frame.DataFrame'>\n",
            "RangeIndex: 1728 entries, 0 to 1727\n",
            "Data columns (total 7 columns):\n",
            " #   Column    Non-Null Count  Dtype \n",
            "---  ------    --------------  ----- \n",
            " 0   buying    1728 non-null   object\n",
            " 1   maint     1728 non-null   object\n",
            " 2   doors     1728 non-null   object\n",
            " 3   persons   1728 non-null   object\n",
            " 4   lug_boot  1728 non-null   object\n",
            " 5   safety    1728 non-null   object\n",
            " 6   class     1728 non-null   object\n",
            "dtypes: object(7)\n",
            "memory usage: 94.6+ KB\n"
          ]
        }
      ]
    },
    {
      "cell_type": "markdown",
      "source": [
        "### 4.5. Frequency distribution of values in variables\n",
        "\n",
        "Now, I will check the frequency counts of categorical variables."
      ],
      "metadata": {
        "id": "p6JdtUFMp7YW"
      }
    },
    {
      "cell_type": "code",
      "source": [
        "col_names = ['buying', 'maint', 'doors', 'persons', 'lug_boot', 'safety', 'class']\n",
        "\n",
        "\n",
        "for col in col_names:\n",
        "    print(df[col].value_counts())   \n",
        "    print(\"\")"
      ],
      "metadata": {
        "colab": {
          "base_uri": "https://localhost:8080/"
        },
        "id": "FlNUHgD_p6LK",
        "outputId": "967f5313-40a7-4eae-d817-46bf0718bdd7"
      },
      "execution_count": 424,
      "outputs": [
        {
          "output_type": "stream",
          "name": "stdout",
          "text": [
            "vhigh    432\n",
            "high     432\n",
            "med      432\n",
            "low      432\n",
            "Name: buying, dtype: int64\n",
            "\n",
            "vhigh    432\n",
            "high     432\n",
            "med      432\n",
            "low      432\n",
            "Name: maint, dtype: int64\n",
            "\n",
            "2        432\n",
            "3        432\n",
            "4        432\n",
            "5more    432\n",
            "Name: doors, dtype: int64\n",
            "\n",
            "2       576\n",
            "4       576\n",
            "more    576\n",
            "Name: persons, dtype: int64\n",
            "\n",
            "small    576\n",
            "med      576\n",
            "big      576\n",
            "Name: lug_boot, dtype: int64\n",
            "\n",
            "low     576\n",
            "med     576\n",
            "high    576\n",
            "Name: safety, dtype: int64\n",
            "\n",
            "unacc    1210\n",
            "acc       384\n",
            "good       69\n",
            "vgood      65\n",
            "Name: class, dtype: int64\n",
            "\n"
          ]
        }
      ]
    },
    {
      "cell_type": "markdown",
      "source": [
        "We can see that the `doors` and `persons` are categorical in nature. So, I will treat them as categorical variables."
      ],
      "metadata": {
        "id": "mQl-UK9OqYwV"
      }
    },
    {
      "cell_type": "markdown",
      "source": [
        "### 4.6. Summary of variables\n",
        "\n",
        "\n",
        "- There are 7 variables in the dataset. All the variables are of categorical data type.\n",
        "\n",
        "\n",
        "- These are given by `buying`, `maint`, `doors`, `persons`, `lug_boot`, `safety` and `class`.\n",
        "\n",
        "\n",
        "- `class` is the target variable."
      ],
      "metadata": {
        "id": "iVZpmOskqZ4d"
      }
    },
    {
      "cell_type": "markdown",
      "source": [
        "### 4.7. Missing values in variables"
      ],
      "metadata": {
        "id": "SB7EaF1bqlVE"
      }
    },
    {
      "cell_type": "code",
      "source": [
        "# check missing values in variables\n",
        "\n",
        "df.isnull().sum()"
      ],
      "metadata": {
        "colab": {
          "base_uri": "https://localhost:8080/"
        },
        "id": "b-7HgdjWqj4e",
        "outputId": "fe483a54-1cb3-4274-e522-467cf5a15143"
      },
      "execution_count": 425,
      "outputs": [
        {
          "output_type": "execute_result",
          "data": {
            "text/plain": [
              "buying      0\n",
              "maint       0\n",
              "doors       0\n",
              "persons     0\n",
              "lug_boot    0\n",
              "safety      0\n",
              "class       0\n",
              "dtype: int64"
            ]
          },
          "metadata": {},
          "execution_count": 425
        }
      ]
    },
    {
      "cell_type": "markdown",
      "source": [
        "We can see that there are no missing values in the dataset. I have checked the frequency distribution of values previously. It also confirms that there are no missing values in the dataset."
      ],
      "metadata": {
        "id": "mIoeCZxlqub_"
      }
    },
    {
      "cell_type": "markdown",
      "source": [
        "### 4.8. Explore `class` variable"
      ],
      "metadata": {
        "id": "HwXz-CqZqws-"
      }
    },
    {
      "cell_type": "code",
      "source": [
        "df['class'].value_counts()"
      ],
      "metadata": {
        "colab": {
          "base_uri": "https://localhost:8080/"
        },
        "id": "41OCDRDwqsIA",
        "outputId": "2974744e-cdb1-4db9-d6f4-2cfeb1725603"
      },
      "execution_count": 426,
      "outputs": [
        {
          "output_type": "execute_result",
          "data": {
            "text/plain": [
              "unacc    1210\n",
              "acc       384\n",
              "good       69\n",
              "vgood      65\n",
              "Name: class, dtype: int64"
            ]
          },
          "metadata": {},
          "execution_count": 426
        }
      ]
    },
    {
      "cell_type": "code",
      "source": [
        "sns.countplot(x='class', data=df, palette='icefire')\n",
        "plt.show()"
      ],
      "metadata": {
        "colab": {
          "base_uri": "https://localhost:8080/",
          "height": 279
        },
        "id": "OanrjtVIsHg9",
        "outputId": "8d1b0a00-79ba-4d79-aa78-53a08285970d"
      },
      "execution_count": 427,
      "outputs": [
        {
          "output_type": "display_data",
          "data": {
            "text/plain": [
              "<Figure size 432x288 with 1 Axes>"
            ],
            "image/png": "[encoded data removed]"
          },
          "metadata": {
            "needs_background": "light"
          }
        }
      ]
    },
    {
      "cell_type": "markdown",
      "source": [
        "We can see from the graph, there is an imbalance in the amount of data from each class. Later, we need to handle this imbalanced data"
      ],
      "metadata": {
        "id": "DyDQ5pyKspTd"
      }
    },
    {
      "cell_type": "markdown",
      "source": [
        "## 5. Preprocessing Data"
      ],
      "metadata": {
        "id": "UtXlrsbMtgK_"
      }
    },
    {
      "cell_type": "markdown",
      "source": [
        "### 5.1. Split data feature (X) and target (y)"
      ],
      "metadata": {
        "id": "qTyQV3EJtMWV"
      }
    },
    {
      "cell_type": "code",
      "source": [
        "X = df.drop(['class'], axis=1)\n",
        "\n",
        "y = df['class']"
      ],
      "metadata": {
        "id": "7yQuXIJ2sljv"
      },
      "execution_count": 428,
      "outputs": []
    },
    {
      "cell_type": "code",
      "source": [
        "X"
      ],
      "metadata": {
        "colab": {
          "base_uri": "https://localhost:8080/",
          "height": 424
        },
        "id": "m7kLlpKCtVNU",
        "outputId": "f98f2499-d88e-498e-fcc0-a7a920ac5e2d"
      },
      "execution_count": 429,
      "outputs": [
        {
          "output_type": "execute_result",
          "data": {
            "text/plain": [
              "     buying  maint  doors persons lug_boot safety\n",
              "0     vhigh  vhigh      2       2    small    low\n",
              "1     vhigh  vhigh      2       2    small    med\n",
              "2     vhigh  vhigh      2       2    small   high\n",
              "3     vhigh  vhigh      2       2      med    low\n",
              "4     vhigh  vhigh      2       2      med    med\n",
              "...     ...    ...    ...     ...      ...    ...\n",
              "1723    low    low  5more    more      med    med\n",
              "1724    low    low  5more    more      med   high\n",
              "1725    low    low  5more    more      big    low\n",
              "1726    low    low  5more    more      big    med\n",
              "1727    low    low  5more    more      big   high\n",
              "\n",
              "[1728 rows x 6 columns]"
            ],
            "text/html": [
              "\n",
              "  <div id=\"df-2ae8d038-c6cc-4f62-9137-5f0058e297ac\">\n",
              "    <div class=\"colab-df-container\">\n",
              "      <div>\n",
              "<style scoped>\n",
              "    .dataframe tbody tr th:only-of-type {\n",
              "        vertical-align: middle;\n",
              "    }\n",
              "\n",
              "    .dataframe tbody tr th {\n",
              "        vertical-align: top;\n",
              "    }\n",
              "\n",
              "    .dataframe thead th {\n",
              "        text-align: right;\n",
              "    }\n",
              "</style>\n",
              "<table border=\"1\" class=\"dataframe\">\n",
              "  <thead>\n",
              "    <tr style=\"text-align: right;\">\n",
              "      <th></th>\n",
              "      <th>buying</th>\n",
              "      <th>maint</th>\n",
              "      <th>doors</th>\n",
              "      <th>persons</th>\n",
              "      <th>lug_boot</th>\n",
              "      <th>safety</th>\n",
              "    </tr>\n",
              "  </thead>\n",
              "  <tbody>\n",
              "    <tr>\n",
              "      <th>0</th>\n",
              "      <td>vhigh</td>\n",
              "      <td>vhigh</td>\n",
              "      <td>2</td>\n",
              "      <td>2</td>\n",
              "      <td>small</td>\n",
              "      <td>low</td>\n",
              "    </tr>\n",
              "    <tr>\n",
              "      <th>1</th>\n",
              "      <td>vhigh</td>\n",
              "      <td>vhigh</td>\n",
              "      <td>2</td>\n",
              "      <td>2</td>\n",
              "      <td>small</td>\n",
              "      <td>med</td>\n",
              "    </tr>\n",
              "    <tr>\n",
              "      <th>2</th>\n",
              "      <td>vhigh</td>\n",
              "      <td>vhigh</td>\n",
              "      <td>2</td>\n",
              "      <td>2</td>\n",
              "      <td>small</td>\n",
              "      <td>high</td>\n",
              "    </tr>\n",
              "    <tr>\n",
              "      <th>3</th>\n",
              "      <td>vhigh</td>\n",
              "      <td>vhigh</td>\n",
              "      <td>2</td>\n",
              "      <td>2</td>\n",
              "      <td>med</td>\n",
              "      <td>low</td>\n",
              "    </tr>\n",
              "    <tr>\n",
              "      <th>4</th>\n",
              "      <td>vhigh</td>\n",
              "      <td>vhigh</td>\n",
              "      <td>2</td>\n",
              "      <td>2</td>\n",
              "      <td>med</td>\n",
              "      <td>med</td>\n",
              "    </tr>\n",
              "    <tr>\n",
              "      <th>...</th>\n",
              "      <td>...</td>\n",
              "      <td>...</td>\n",
              "      <td>...</td>\n",
              "      <td>...</td>\n",
              "      <td>...</td>\n",
              "      <td>...</td>\n",
              "    </tr>\n",
              "    <tr>\n",
              "      <th>1723</th>\n",
              "      <td>low</td>\n",
              "      <td>low</td>\n",
              "      <td>5more</td>\n",
              "      <td>more</td>\n",
              "      <td>med</td>\n",
              "      <td>med</td>\n",
              "    </tr>\n",
              "    <tr>\n",
              "      <th>1724</th>\n",
              "      <td>low</td>\n",
              "      <td>low</td>\n",
              "      <td>5more</td>\n",
              "      <td>more</td>\n",
              "      <td>med</td>\n",
              "      <td>high</td>\n",
              "    </tr>\n",
              "    <tr>\n",
              "      <th>1725</th>\n",
              "      <td>low</td>\n",
              "      <td>low</td>\n",
              "      <td>5more</td>\n",
              "      <td>more</td>\n",
              "      <td>big</td>\n",
              "      <td>low</td>\n",
              "    </tr>\n",
              "    <tr>\n",
              "      <th>1726</th>\n",
              "      <td>low</td>\n",
              "      <td>low</td>\n",
              "      <td>5more</td>\n",
              "      <td>more</td>\n",
              "      <td>big</td>\n",
              "      <td>med</td>\n",
              "    </tr>\n",
              "    <tr>\n",
              "      <th>1727</th>\n",
              "      <td>low</td>\n",
              "      <td>low</td>\n",
              "      <td>5more</td>\n",
              "      <td>more</td>\n",
              "      <td>big</td>\n",
              "      <td>high</td>\n",
              "    </tr>\n",
              "  </tbody>\n",
              "</table>\n",
              "<p>1728 rows × 6 columns</p>\n",
              "</div>\n",
              "      <button class=\"colab-df-convert\" onclick=\"convertToInteractive('df-2ae8d038-c6cc-4f62-9137-5f0058e297ac')\"\n",
              "              title=\"Convert this dataframe to an interactive table.\"\n",
              "              style=\"display:none;\">\n",
              "        \n",
              "  <svg xmlns=\"http://www.w3.org/2000/svg\" height=\"24px\"viewBox=\"0 0 24 24\"\n",
              "       width=\"24px\">\n",
              "    <path d=\"M0 0h24v24H0V0z\" fill=\"none\"/>\n",
              "    <path d=\"M18.56 5.44l.94 2.06.94-2.06 2.06-.94-2.06-.94-.94-2.06-.94 2.06-2.06.94zm-11 1L8.5 8.5l.94-2.06 2.06-.94-2.06-.94L8.5 2.5l-.94 2.06-2.06.94zm10 10l.94 2.06.94-2.06 2.06-.94-2.06-.94-.94-2.06-.94 2.06-2.06.94z\"/><path d=\"M17.41 7.96l-1.37-1.37c-.4-.4-.92-.59-1.43-.59-.52 0-1.04.2-1.43.59L10.3 9.45l-7.72 7.72c-.78.78-.78 2.05 0 2.83L4 21.41c.39.39.9.59 1.41.59.51 0 1.02-.2 1.41-.59l7.78-7.78 2.81-2.81c.8-.78.8-2.07 0-2.86zM5.41 20L4 18.59l7.72-7.72 1.47 1.35L5.41 20z\"/>\n",
              "  </svg>\n",
              "      </button>\n",
              "      \n",
              "  <style>\n",
              "    .colab-df-container {\n",
              "      display:flex;\n",
              "      flex-wrap:wrap;\n",
              "      gap: 12px;\n",
              "    }\n",
              "\n",
              "    .colab-df-convert {\n",
              "      background-color: #E8F0FE;\n",
              "      border: none;\n",
              "      border-radius: 50%;\n",
              "      cursor: pointer;\n",
              "      display: none;\n",
              "      fill: #1967D2;\n",
              "      height: 32px;\n",
              "      padding: 0 0 0 0;\n",
              "      width: 32px;\n",
              "    }\n",
              "\n",
              "    .colab-df-convert:hover {\n",
              "      background-color: #E2EBFA;\n",
              "      box-shadow: 0px 1px 2px rgba(60, 64, 67, 0.3), 0px 1px 3px 1px rgba(60, 64, 67, 0.15);\n",
              "      fill: #174EA6;\n",
              "    }\n",
              "\n",
              "    [theme=dark] .colab-df-convert {\n",
              "      background-color: #3B4455;\n",
              "      fill: #D2E3FC;\n",
              "    }\n",
              "\n",
              "    [theme=dark] .colab-df-convert:hover {\n",
              "      background-color: #434B5C;\n",
              "      box-shadow: 0px 1px 3px 1px rgba(0, 0, 0, 0.15);\n",
              "      filter: drop-shadow(0px 1px 2px rgba(0, 0, 0, 0.3));\n",
              "      fill: #FFFFFF;\n",
              "    }\n",
              "  </style>\n",
              "\n",
              "      <script>\n",
              "        const buttonEl =\n",
              "          document.querySelector('#df-2ae8d038-c6cc-4f62-9137-5f0058e297ac button.colab-df-convert');\n",
              "        buttonEl.style.display =\n",
              "          google.colab.kernel.accessAllowed ? 'block' : 'none';\n",
              "\n",
              "        async function convertToInteractive(key) {\n",
              "          const element = document.querySelector('#df-2ae8d038-c6cc-4f62-9137-5f0058e297ac');\n",
              "          const dataTable =\n",
              "            await google.colab.kernel.invokeFunction('convertToInteractive',\n",
              "                                                     [key], {});\n",
              "          if (!dataTable) return;\n",
              "\n",
              "          const docLinkHtml = 'Like what you see? Visit the ' +\n",
              "            '<a target=\"_blank\" href=https://colab.research.google.com/notebooks/data_table.ipynb>data table notebook</a>'\n",
              "            + ' to learn more about interactive tables.';\n",
              "          element.innerHTML = '';\n",
              "          dataTable['output_type'] = 'display_data';\n",
              "          await google.colab.output.renderOutput(dataTable, element);\n",
              "          const docLink = document.createElement('div');\n",
              "          docLink.innerHTML = docLinkHtml;\n",
              "          element.appendChild(docLink);\n",
              "        }\n",
              "      </script>\n",
              "    </div>\n",
              "  </div>\n",
              "  "
            ]
          },
          "metadata": {},
          "execution_count": 429
        }
      ]
    },
    {
      "cell_type": "code",
      "source": [
        "y"
      ],
      "metadata": {
        "colab": {
          "base_uri": "https://localhost:8080/"
        },
        "id": "cvN41kZ7tWNo",
        "outputId": "91c87201-5912-485b-e98f-73ca8d6bf627"
      },
      "execution_count": 430,
      "outputs": [
        {
          "output_type": "execute_result",
          "data": {
            "text/plain": [
              "0       unacc\n",
              "1       unacc\n",
              "2       unacc\n",
              "3       unacc\n",
              "4       unacc\n",
              "        ...  \n",
              "1723     good\n",
              "1724    vgood\n",
              "1725    unacc\n",
              "1726     good\n",
              "1727    vgood\n",
              "Name: class, Length: 1728, dtype: object"
            ]
          },
          "metadata": {},
          "execution_count": 430
        }
      ]
    },
    {
      "cell_type": "markdown",
      "source": [
        "### 5.2. Split data into separate training and test set"
      ],
      "metadata": {
        "id": "OK-6LhYCtwJl"
      }
    },
    {
      "cell_type": "markdown",
      "source": [
        "Before training a model, the data need to divided into train and test data. Now, I'm going to split the dataset in a ratio of 8:2."
      ],
      "metadata": {
        "id": "bzgtTIFMt2t9"
      }
    },
    {
      "cell_type": "code",
      "source": [
        "# split X and y into training and testing sets\n",
        "\n",
        "from sklearn.model_selection import train_test_split\n",
        "\n",
        "X_train, X_test, y_train, y_test = train_test_split(X, y, test_size = 0.2, random_state = 42)\n"
      ],
      "metadata": {
        "id": "PcelxiJptW5-"
      },
      "execution_count": 431,
      "outputs": []
    },
    {
      "cell_type": "code",
      "source": [
        "# check the shape of X_train and X_test\n",
        "\n",
        "X_train.shape, X_test.shape"
      ],
      "metadata": {
        "colab": {
          "base_uri": "https://localhost:8080/"
        },
        "id": "aT_aE8G8uIdN",
        "outputId": "5300410d-670a-411c-f0e8-10e94c1afbc1"
      },
      "execution_count": 432,
      "outputs": [
        {
          "output_type": "execute_result",
          "data": {
            "text/plain": [
              "((1382, 6), (346, 6))"
            ]
          },
          "metadata": {},
          "execution_count": 432
        }
      ]
    },
    {
      "cell_type": "markdown",
      "source": [
        "### 5.3. Feature Engineering\n",
        "\n",
        "First, I will check the data types of variables again."
      ],
      "metadata": {
        "id": "64Osz0QvuSu0"
      }
    },
    {
      "cell_type": "code",
      "source": [
        "# check data types in X_train\n",
        "\n",
        "X_train.dtypes"
      ],
      "metadata": {
        "colab": {
          "base_uri": "https://localhost:8080/"
        },
        "id": "zxXE_UNduLAV",
        "outputId": "2650b184-366f-487a-bc21-076ef74a76ef"
      },
      "execution_count": 433,
      "outputs": [
        {
          "output_type": "execute_result",
          "data": {
            "text/plain": [
              "buying      object\n",
              "maint       object\n",
              "doors       object\n",
              "persons     object\n",
              "lug_boot    object\n",
              "safety      object\n",
              "dtype: object"
            ]
          },
          "metadata": {},
          "execution_count": 433
        }
      ]
    },
    {
      "cell_type": "markdown",
      "source": [
        "**Encode categorical variables**\n",
        "\n",
        "\n",
        "Now, I will encode the categorical variables."
      ],
      "metadata": {
        "id": "uWwz-ws0ulPB"
      }
    },
    {
      "cell_type": "code",
      "source": [
        "X_train.head()"
      ],
      "metadata": {
        "colab": {
          "base_uri": "https://localhost:8080/",
          "height": 206
        },
        "id": "VyKdbdX6uipg",
        "outputId": "deec63f1-fd02-4dd3-fa16-d9f1ba3bb1da"
      },
      "execution_count": 434,
      "outputs": [
        {
          "output_type": "execute_result",
          "data": {
            "text/plain": [
              "     buying  maint  doors persons lug_boot safety\n",
              "107   vhigh  vhigh  5more    more      big   high\n",
              "901     med  vhigh      3       4    small    med\n",
              "1709    low    low  5more       2      big   high\n",
              "706    high    med      4       2      med    med\n",
              "678    high    med      3       2      med    low"
            ],
            "text/html": [
              "\n",
              "  <div id=\"df-cbc56285-a96b-4928-8adf-7bb1f98e5764\">\n",
              "    <div class=\"colab-df-container\">\n",
              "      <div>\n",
              "<style scoped>\n",
              "    .dataframe tbody tr th:only-of-type {\n",
              "        vertical-align: middle;\n",
              "    }\n",
              "\n",
              "    .dataframe tbody tr th {\n",
              "        vertical-align: top;\n",
              "    }\n",
              "\n",
              "    .dataframe thead th {\n",
              "        text-align: right;\n",
              "    }\n",
              "</style>\n",
              "<table border=\"1\" class=\"dataframe\">\n",
              "  <thead>\n",
              "    <tr style=\"text-align: right;\">\n",
              "      <th></th>\n",
              "      <th>buying</th>\n",
              "      <th>maint</th>\n",
              "      <th>doors</th>\n",
              "      <th>persons</th>\n",
              "      <th>lug_boot</th>\n",
              "      <th>safety</th>\n",
              "    </tr>\n",
              "  </thead>\n",
              "  <tbody>\n",
              "    <tr>\n",
              "      <th>107</th>\n",
              "      <td>vhigh</td>\n",
              "      <td>vhigh</td>\n",
              "      <td>5more</td>\n",
              "      <td>more</td>\n",
              "      <td>big</td>\n",
              "      <td>high</td>\n",
              "    </tr>\n",
              "    <tr>\n",
              "      <th>901</th>\n",
              "      <td>med</td>\n",
              "      <td>vhigh</td>\n",
              "      <td>3</td>\n",
              "      <td>4</td>\n",
              "      <td>small</td>\n",
              "      <td>med</td>\n",
              "    </tr>\n",
              "    <tr>\n",
              "      <th>1709</th>\n",
              "      <td>low</td>\n",
              "      <td>low</td>\n",
              "      <td>5more</td>\n",
              "      <td>2</td>\n",
              "      <td>big</td>\n",
              "      <td>high</td>\n",
              "    </tr>\n",
              "    <tr>\n",
              "      <th>706</th>\n",
              "      <td>high</td>\n",
              "      <td>med</td>\n",
              "      <td>4</td>\n",
              "      <td>2</td>\n",
              "      <td>med</td>\n",
              "      <td>med</td>\n",
              "    </tr>\n",
              "    <tr>\n",
              "      <th>678</th>\n",
              "      <td>high</td>\n",
              "      <td>med</td>\n",
              "      <td>3</td>\n",
              "      <td>2</td>\n",
              "      <td>med</td>\n",
              "      <td>low</td>\n",
              "    </tr>\n",
              "  </tbody>\n",
              "</table>\n",
              "</div>\n",
              "      <button class=\"colab-df-convert\" onclick=\"convertToInteractive('df-cbc56285-a96b-4928-8adf-7bb1f98e5764')\"\n",
              "              title=\"Convert this dataframe to an interactive table.\"\n",
              "              style=\"display:none;\">\n",
              "        \n",
              "  <svg xmlns=\"http://www.w3.org/2000/svg\" height=\"24px\"viewBox=\"0 0 24 24\"\n",
              "       width=\"24px\">\n",
              "    <path d=\"M0 0h24v24H0V0z\" fill=\"none\"/>\n",
              "    <path d=\"M18.56 5.44l.94 2.06.94-2.06 2.06-.94-2.06-.94-.94-2.06-.94 2.06-2.06.94zm-11 1L8.5 8.5l.94-2.06 2.06-.94-2.06-.94L8.5 2.5l-.94 2.06-2.06.94zm10 10l.94 2.06.94-2.06 2.06-.94-2.06-.94-.94-2.06-.94 2.06-2.06.94z\"/><path d=\"M17.41 7.96l-1.37-1.37c-.4-.4-.92-.59-1.43-.59-.52 0-1.04.2-1.43.59L10.3 9.45l-7.72 7.72c-.78.78-.78 2.05 0 2.83L4 21.41c.39.39.9.59 1.41.59.51 0 1.02-.2 1.41-.59l7.78-7.78 2.81-2.81c.8-.78.8-2.07 0-2.86zM5.41 20L4 18.59l7.72-7.72 1.47 1.35L5.41 20z\"/>\n",
              "  </svg>\n",
              "      </button>\n",
              "      \n",
              "  <style>\n",
              "    .colab-df-container {\n",
              "      display:flex;\n",
              "      flex-wrap:wrap;\n",
              "      gap: 12px;\n",
              "    }\n",
              "\n",
              "    .colab-df-convert {\n",
              "      background-color: #E8F0FE;\n",
              "      border: none;\n",
              "      border-radius: 50%;\n",
              "      cursor: pointer;\n",
              "      display: none;\n",
              "      fill: #1967D2;\n",
              "      height: 32px;\n",
              "      padding: 0 0 0 0;\n",
              "      width: 32px;\n",
              "    }\n",
              "\n",
              "    .colab-df-convert:hover {\n",
              "      background-color: #E2EBFA;\n",
              "      box-shadow: 0px 1px 2px rgba(60, 64, 67, 0.3), 0px 1px 3px 1px rgba(60, 64, 67, 0.15);\n",
              "      fill: #174EA6;\n",
              "    }\n",
              "\n",
              "    [theme=dark] .colab-df-convert {\n",
              "      background-color: #3B4455;\n",
              "      fill: #D2E3FC;\n",
              "    }\n",
              "\n",
              "    [theme=dark] .colab-df-convert:hover {\n",
              "      background-color: #434B5C;\n",
              "      box-shadow: 0px 1px 3px 1px rgba(0, 0, 0, 0.15);\n",
              "      filter: drop-shadow(0px 1px 2px rgba(0, 0, 0, 0.3));\n",
              "      fill: #FFFFFF;\n",
              "    }\n",
              "  </style>\n",
              "\n",
              "      <script>\n",
              "        const buttonEl =\n",
              "          document.querySelector('#df-cbc56285-a96b-4928-8adf-7bb1f98e5764 button.colab-df-convert');\n",
              "        buttonEl.style.display =\n",
              "          google.colab.kernel.accessAllowed ? 'block' : 'none';\n",
              "\n",
              "        async function convertToInteractive(key) {\n",
              "          const element = document.querySelector('#df-cbc56285-a96b-4928-8adf-7bb1f98e5764');\n",
              "          const dataTable =\n",
              "            await google.colab.kernel.invokeFunction('convertToInteractive',\n",
              "                                                     [key], {});\n",
              "          if (!dataTable) return;\n",
              "\n",
              "          const docLinkHtml = 'Like what you see? Visit the ' +\n",
              "            '<a target=\"_blank\" href=https://colab.research.google.com/notebooks/data_table.ipynb>data table notebook</a>'\n",
              "            + ' to learn more about interactive tables.';\n",
              "          element.innerHTML = '';\n",
              "          dataTable['output_type'] = 'display_data';\n",
              "          await google.colab.output.renderOutput(dataTable, element);\n",
              "          const docLink = document.createElement('div');\n",
              "          docLink.innerHTML = docLinkHtml;\n",
              "          element.appendChild(docLink);\n",
              "        }\n",
              "      </script>\n",
              "    </div>\n",
              "  </div>\n",
              "  "
            ]
          },
          "metadata": {},
          "execution_count": 434
        }
      ]
    },
    {
      "cell_type": "markdown",
      "source": [
        "We can see that all  the variables are ordinal categorical data type."
      ],
      "metadata": {
        "id": "TTR738Yvuv7R"
      }
    },
    {
      "cell_type": "code",
      "source": [
        "!pip install category_encoders"
      ],
      "metadata": {
        "colab": {
          "base_uri": "https://localhost:8080/"
        },
        "id": "gcAtxHN9u2wp",
        "outputId": "8e73cf27-7098-495c-f2ac-c910cf546ebb"
      },
      "execution_count": 435,
      "outputs": [
        {
          "output_type": "stream",
          "name": "stdout",
          "text": [
            "Looking in indexes: https://pypi.org/simple, https://us-python.pkg.dev/colab-wheels/public/simple/\n",
            "Requirement already satisfied: category_encoders in /usr/local/lib/python3.8/dist-packages (2.6.0)\n",
            "Requirement already satisfied: scikit-learn>=0.20.0 in /usr/local/lib/python3.8/dist-packages (from category_encoders) (1.0.2)\n",
            "Requirement already satisfied: numpy>=1.14.0 in /usr/local/lib/python3.8/dist-packages (from category_encoders) (1.22.4)\n",
            "Requirement already satisfied: pandas>=1.0.5 in /usr/local/lib/python3.8/dist-packages (from category_encoders) (1.3.5)\n",
            "Requirement already satisfied: statsmodels>=0.9.0 in /usr/local/lib/python3.8/dist-packages (from category_encoders) (0.12.2)\n",
            "Requirement already satisfied: patsy>=0.5.1 in /usr/local/lib/python3.8/dist-packages (from category_encoders) (0.5.3)\n",
            "Requirement already satisfied: scipy>=1.0.0 in /usr/local/lib/python3.8/dist-packages (from category_encoders) (1.7.3)\n",
            "Requirement already satisfied: python-dateutil>=2.7.3 in /usr/local/lib/python3.8/dist-packages (from pandas>=1.0.5->category_encoders) (2.8.2)\n",
            "Requirement already satisfied: pytz>=2017.3 in /usr/local/lib/python3.8/dist-packages (from pandas>=1.0.5->category_encoders) (2022.7.1)\n",
            "Requirement already satisfied: six in /usr/local/lib/python3.8/dist-packages (from patsy>=0.5.1->category_encoders) (1.15.0)\n",
            "Requirement already satisfied: threadpoolctl>=2.0.0 in /usr/local/lib/python3.8/dist-packages (from scikit-learn>=0.20.0->category_encoders) (3.1.0)\n",
            "Requirement already satisfied: joblib>=0.11 in /usr/local/lib/python3.8/dist-packages (from scikit-learn>=0.20.0->category_encoders) (1.2.0)\n"
          ]
        }
      ]
    },
    {
      "cell_type": "code",
      "source": [
        "# import category encoders\n",
        "\n",
        "import category_encoders as ce"
      ],
      "metadata": {
        "id": "xP-HRKhVuteQ"
      },
      "execution_count": 436,
      "outputs": []
    },
    {
      "cell_type": "code",
      "source": [
        "# encode variables with ordinal encoding\n",
        "\n",
        "encoder = ce.OrdinalEncoder(cols=['buying', 'maint', 'doors', 'persons', 'lug_boot', 'safety'])\n",
        "\n",
        "\n",
        "X_train = encoder.fit_transform(X_train)\n",
        "\n",
        "X_test = encoder.transform(X_test)"
      ],
      "metadata": {
        "id": "5pCkjovuuz0_"
      },
      "execution_count": 437,
      "outputs": []
    },
    {
      "cell_type": "code",
      "source": [
        "X_train.head()"
      ],
      "metadata": {
        "colab": {
          "base_uri": "https://localhost:8080/",
          "height": 206
        },
        "id": "1x7hdo6Fu5y4",
        "outputId": "e90d7c0b-ab0e-46a4-c1a6-f96792616a8f"
      },
      "execution_count": 438,
      "outputs": [
        {
          "output_type": "execute_result",
          "data": {
            "text/plain": [
              "      buying  maint  doors  persons  lug_boot  safety\n",
              "107        1      1      1        1         1       1\n",
              "901        2      1      2        2         2       2\n",
              "1709       3      2      1        3         1       1\n",
              "706        4      3      3        3         3       2\n",
              "678        4      3      2        3         3       3"
            ],
            "text/html": [
              "\n",
              "  <div id=\"df-c9daaf9f-bb20-44a9-86df-1011bb115ff3\">\n",
              "    <div class=\"colab-df-container\">\n",
              "      <div>\n",
              "<style scoped>\n",
              "    .dataframe tbody tr th:only-of-type {\n",
              "        vertical-align: middle;\n",
              "    }\n",
              "\n",
              "    .dataframe tbody tr th {\n",
              "        vertical-align: top;\n",
              "    }\n",
              "\n",
              "    .dataframe thead th {\n",
              "        text-align: right;\n",
              "    }\n",
              "</style>\n",
              "<table border=\"1\" class=\"dataframe\">\n",
              "  <thead>\n",
              "    <tr style=\"text-align: right;\">\n",
              "      <th></th>\n",
              "      <th>buying</th>\n",
              "      <th>maint</th>\n",
              "      <th>doors</th>\n",
              "      <th>persons</th>\n",
              "      <th>lug_boot</th>\n",
              "      <th>safety</th>\n",
              "    </tr>\n",
              "  </thead>\n",
              "  <tbody>\n",
              "    <tr>\n",
              "      <th>107</th>\n",
              "      <td>1</td>\n",
              "      <td>1</td>\n",
              "      <td>1</td>\n",
              "      <td>1</td>\n",
              "      <td>1</td>\n",
              "      <td>1</td>\n",
              "    </tr>\n",
              "    <tr>\n",
              "      <th>901</th>\n",
              "      <td>2</td>\n",
              "      <td>1</td>\n",
              "      <td>2</td>\n",
              "      <td>2</td>\n",
              "      <td>2</td>\n",
              "      <td>2</td>\n",
              "    </tr>\n",
              "    <tr>\n",
              "      <th>1709</th>\n",
              "      <td>3</td>\n",
              "      <td>2</td>\n",
              "      <td>1</td>\n",
              "      <td>3</td>\n",
              "      <td>1</td>\n",
              "      <td>1</td>\n",
              "    </tr>\n",
              "    <tr>\n",
              "      <th>706</th>\n",
              "      <td>4</td>\n",
              "      <td>3</td>\n",
              "      <td>3</td>\n",
              "      <td>3</td>\n",
              "      <td>3</td>\n",
              "      <td>2</td>\n",
              "    </tr>\n",
              "    <tr>\n",
              "      <th>678</th>\n",
              "      <td>4</td>\n",
              "      <td>3</td>\n",
              "      <td>2</td>\n",
              "      <td>3</td>\n",
              "      <td>3</td>\n",
              "      <td>3</td>\n",
              "    </tr>\n",
              "  </tbody>\n",
              "</table>\n",
              "</div>\n",
              "      <button class=\"colab-df-convert\" onclick=\"convertToInteractive('df-c9daaf9f-bb20-44a9-86df-1011bb115ff3')\"\n",
              "              title=\"Convert this dataframe to an interactive table.\"\n",
              "              style=\"display:none;\">\n",
              "        \n",
              "  <svg xmlns=\"http://www.w3.org/2000/svg\" height=\"24px\"viewBox=\"0 0 24 24\"\n",
              "       width=\"24px\">\n",
              "    <path d=\"M0 0h24v24H0V0z\" fill=\"none\"/>\n",
              "    <path d=\"M18.56 5.44l.94 2.06.94-2.06 2.06-.94-2.06-.94-.94-2.06-.94 2.06-2.06.94zm-11 1L8.5 8.5l.94-2.06 2.06-.94-2.06-.94L8.5 2.5l-.94 2.06-2.06.94zm10 10l.94 2.06.94-2.06 2.06-.94-2.06-.94-.94-2.06-.94 2.06-2.06.94z\"/><path d=\"M17.41 7.96l-1.37-1.37c-.4-.4-.92-.59-1.43-.59-.52 0-1.04.2-1.43.59L10.3 9.45l-7.72 7.72c-.78.78-.78 2.05 0 2.83L4 21.41c.39.39.9.59 1.41.59.51 0 1.02-.2 1.41-.59l7.78-7.78 2.81-2.81c.8-.78.8-2.07 0-2.86zM5.41 20L4 18.59l7.72-7.72 1.47 1.35L5.41 20z\"/>\n",
              "  </svg>\n",
              "      </button>\n",
              "      \n",
              "  <style>\n",
              "    .colab-df-container {\n",
              "      display:flex;\n",
              "      flex-wrap:wrap;\n",
              "      gap: 12px;\n",
              "    }\n",
              "\n",
              "    .colab-df-convert {\n",
              "      background-color: #E8F0FE;\n",
              "      border: none;\n",
              "      border-radius: 50%;\n",
              "      cursor: pointer;\n",
              "      display: none;\n",
              "      fill: #1967D2;\n",
              "      height: 32px;\n",
              "      padding: 0 0 0 0;\n",
              "      width: 32px;\n",
              "    }\n",
              "\n",
              "    .colab-df-convert:hover {\n",
              "      background-color: #E2EBFA;\n",
              "      box-shadow: 0px 1px 2px rgba(60, 64, 67, 0.3), 0px 1px 3px 1px rgba(60, 64, 67, 0.15);\n",
              "      fill: #174EA6;\n",
              "    }\n",
              "\n",
              "    [theme=dark] .colab-df-convert {\n",
              "      background-color: #3B4455;\n",
              "      fill: #D2E3FC;\n",
              "    }\n",
              "\n",
              "    [theme=dark] .colab-df-convert:hover {\n",
              "      background-color: #434B5C;\n",
              "      box-shadow: 0px 1px 3px 1px rgba(0, 0, 0, 0.15);\n",
              "      filter: drop-shadow(0px 1px 2px rgba(0, 0, 0, 0.3));\n",
              "      fill: #FFFFFF;\n",
              "    }\n",
              "  </style>\n",
              "\n",
              "      <script>\n",
              "        const buttonEl =\n",
              "          document.querySelector('#df-c9daaf9f-bb20-44a9-86df-1011bb115ff3 button.colab-df-convert');\n",
              "        buttonEl.style.display =\n",
              "          google.colab.kernel.accessAllowed ? 'block' : 'none';\n",
              "\n",
              "        async function convertToInteractive(key) {\n",
              "          const element = document.querySelector('#df-c9daaf9f-bb20-44a9-86df-1011bb115ff3');\n",
              "          const dataTable =\n",
              "            await google.colab.kernel.invokeFunction('convertToInteractive',\n",
              "                                                     [key], {});\n",
              "          if (!dataTable) return;\n",
              "\n",
              "          const docLinkHtml = 'Like what you see? Visit the ' +\n",
              "            '<a target=\"_blank\" href=https://colab.research.google.com/notebooks/data_table.ipynb>data table notebook</a>'\n",
              "            + ' to learn more about interactive tables.';\n",
              "          element.innerHTML = '';\n",
              "          dataTable['output_type'] = 'display_data';\n",
              "          await google.colab.output.renderOutput(dataTable, element);\n",
              "          const docLink = document.createElement('div');\n",
              "          docLink.innerHTML = docLinkHtml;\n",
              "          element.appendChild(docLink);\n",
              "        }\n",
              "      </script>\n",
              "    </div>\n",
              "  </div>\n",
              "  "
            ]
          },
          "metadata": {},
          "execution_count": 438
        }
      ]
    },
    {
      "cell_type": "code",
      "source": [
        "X_test.head()"
      ],
      "metadata": {
        "colab": {
          "base_uri": "https://localhost:8080/",
          "height": 206
        },
        "id": "CsNuxoUVu7MA",
        "outputId": "f4695877-06c3-48d6-9011-9805efc86989"
      },
      "execution_count": 439,
      "outputs": [
        {
          "output_type": "execute_result",
          "data": {
            "text/plain": [
              "      buying  maint  doors  persons  lug_boot  safety\n",
              "599        4      4      3        3         3       1\n",
              "1201       2      2      4        2         3       2\n",
              "628        4      4      1        3         1       2\n",
              "1498       3      4      1        2         3       2\n",
              "1263       2      2      3        1         3       3"
            ],
            "text/html": [
              "\n",
              "  <div id=\"df-e4cda834-1790-4fc2-8190-8b02516947f9\">\n",
              "    <div class=\"colab-df-container\">\n",
              "      <div>\n",
              "<style scoped>\n",
              "    .dataframe tbody tr th:only-of-type {\n",
              "        vertical-align: middle;\n",
              "    }\n",
              "\n",
              "    .dataframe tbody tr th {\n",
              "        vertical-align: top;\n",
              "    }\n",
              "\n",
              "    .dataframe thead th {\n",
              "        text-align: right;\n",
              "    }\n",
              "</style>\n",
              "<table border=\"1\" class=\"dataframe\">\n",
              "  <thead>\n",
              "    <tr style=\"text-align: right;\">\n",
              "      <th></th>\n",
              "      <th>buying</th>\n",
              "      <th>maint</th>\n",
              "      <th>doors</th>\n",
              "      <th>persons</th>\n",
              "      <th>lug_boot</th>\n",
              "      <th>safety</th>\n",
              "    </tr>\n",
              "  </thead>\n",
              "  <tbody>\n",
              "    <tr>\n",
              "      <th>599</th>\n",
              "      <td>4</td>\n",
              "      <td>4</td>\n",
              "      <td>3</td>\n",
              "      <td>3</td>\n",
              "      <td>3</td>\n",
              "      <td>1</td>\n",
              "    </tr>\n",
              "    <tr>\n",
              "      <th>1201</th>\n",
              "      <td>2</td>\n",
              "      <td>2</td>\n",
              "      <td>4</td>\n",
              "      <td>2</td>\n",
              "      <td>3</td>\n",
              "      <td>2</td>\n",
              "    </tr>\n",
              "    <tr>\n",
              "      <th>628</th>\n",
              "      <td>4</td>\n",
              "      <td>4</td>\n",
              "      <td>1</td>\n",
              "      <td>3</td>\n",
              "      <td>1</td>\n",
              "      <td>2</td>\n",
              "    </tr>\n",
              "    <tr>\n",
              "      <th>1498</th>\n",
              "      <td>3</td>\n",
              "      <td>4</td>\n",
              "      <td>1</td>\n",
              "      <td>2</td>\n",
              "      <td>3</td>\n",
              "      <td>2</td>\n",
              "    </tr>\n",
              "    <tr>\n",
              "      <th>1263</th>\n",
              "      <td>2</td>\n",
              "      <td>2</td>\n",
              "      <td>3</td>\n",
              "      <td>1</td>\n",
              "      <td>3</td>\n",
              "      <td>3</td>\n",
              "    </tr>\n",
              "  </tbody>\n",
              "</table>\n",
              "</div>\n",
              "      <button class=\"colab-df-convert\" onclick=\"convertToInteractive('df-e4cda834-1790-4fc2-8190-8b02516947f9')\"\n",
              "              title=\"Convert this dataframe to an interactive table.\"\n",
              "              style=\"display:none;\">\n",
              "        \n",
              "  <svg xmlns=\"http://www.w3.org/2000/svg\" height=\"24px\"viewBox=\"0 0 24 24\"\n",
              "       width=\"24px\">\n",
              "    <path d=\"M0 0h24v24H0V0z\" fill=\"none\"/>\n",
              "    <path d=\"M18.56 5.44l.94 2.06.94-2.06 2.06-.94-2.06-.94-.94-2.06-.94 2.06-2.06.94zm-11 1L8.5 8.5l.94-2.06 2.06-.94-2.06-.94L8.5 2.5l-.94 2.06-2.06.94zm10 10l.94 2.06.94-2.06 2.06-.94-2.06-.94-.94-2.06-.94 2.06-2.06.94z\"/><path d=\"M17.41 7.96l-1.37-1.37c-.4-.4-.92-.59-1.43-.59-.52 0-1.04.2-1.43.59L10.3 9.45l-7.72 7.72c-.78.78-.78 2.05 0 2.83L4 21.41c.39.39.9.59 1.41.59.51 0 1.02-.2 1.41-.59l7.78-7.78 2.81-2.81c.8-.78.8-2.07 0-2.86zM5.41 20L4 18.59l7.72-7.72 1.47 1.35L5.41 20z\"/>\n",
              "  </svg>\n",
              "      </button>\n",
              "      \n",
              "  <style>\n",
              "    .colab-df-container {\n",
              "      display:flex;\n",
              "      flex-wrap:wrap;\n",
              "      gap: 12px;\n",
              "    }\n",
              "\n",
              "    .colab-df-convert {\n",
              "      background-color: #E8F0FE;\n",
              "      border: none;\n",
              "      border-radius: 50%;\n",
              "      cursor: pointer;\n",
              "      display: none;\n",
              "      fill: #1967D2;\n",
              "      height: 32px;\n",
              "      padding: 0 0 0 0;\n",
              "      width: 32px;\n",
              "    }\n",
              "\n",
              "    .colab-df-convert:hover {\n",
              "      background-color: #E2EBFA;\n",
              "      box-shadow: 0px 1px 2px rgba(60, 64, 67, 0.3), 0px 1px 3px 1px rgba(60, 64, 67, 0.15);\n",
              "      fill: #174EA6;\n",
              "    }\n",
              "\n",
              "    [theme=dark] .colab-df-convert {\n",
              "      background-color: #3B4455;\n",
              "      fill: #D2E3FC;\n",
              "    }\n",
              "\n",
              "    [theme=dark] .colab-df-convert:hover {\n",
              "      background-color: #434B5C;\n",
              "      box-shadow: 0px 1px 3px 1px rgba(0, 0, 0, 0.15);\n",
              "      filter: drop-shadow(0px 1px 2px rgba(0, 0, 0, 0.3));\n",
              "      fill: #FFFFFF;\n",
              "    }\n",
              "  </style>\n",
              "\n",
              "      <script>\n",
              "        const buttonEl =\n",
              "          document.querySelector('#df-e4cda834-1790-4fc2-8190-8b02516947f9 button.colab-df-convert');\n",
              "        buttonEl.style.display =\n",
              "          google.colab.kernel.accessAllowed ? 'block' : 'none';\n",
              "\n",
              "        async function convertToInteractive(key) {\n",
              "          const element = document.querySelector('#df-e4cda834-1790-4fc2-8190-8b02516947f9');\n",
              "          const dataTable =\n",
              "            await google.colab.kernel.invokeFunction('convertToInteractive',\n",
              "                                                     [key], {});\n",
              "          if (!dataTable) return;\n",
              "\n",
              "          const docLinkHtml = 'Like what you see? Visit the ' +\n",
              "            '<a target=\"_blank\" href=https://colab.research.google.com/notebooks/data_table.ipynb>data table notebook</a>'\n",
              "            + ' to learn more about interactive tables.';\n",
              "          element.innerHTML = '';\n",
              "          dataTable['output_type'] = 'display_data';\n",
              "          await google.colab.output.renderOutput(dataTable, element);\n",
              "          const docLink = document.createElement('div');\n",
              "          docLink.innerHTML = docLinkHtml;\n",
              "          element.appendChild(docLink);\n",
              "        }\n",
              "      </script>\n",
              "    </div>\n",
              "  </div>\n",
              "  "
            ]
          },
          "metadata": {},
          "execution_count": 439
        }
      ]
    },
    {
      "cell_type": "markdown",
      "source": [
        "### 5.4. Handling imbalance data"
      ],
      "metadata": {
        "id": "Suic6mdavVzv"
      }
    },
    {
      "cell_type": "code",
      "source": [
        "from imblearn.over_sampling import SMOTE\n",
        "from imblearn.under_sampling import RandomUnderSampler\n",
        "from collections import Counter"
      ],
      "metadata": {
        "id": "Z8MbYxb5wGaI"
      },
      "execution_count": 440,
      "outputs": []
    },
    {
      "cell_type": "markdown",
      "source": [
        "Now we will handle the imbalanced data by using undersampling techniques."
      ],
      "metadata": {
        "id": "3ecrwE0aYyHo"
      }
    },
    {
      "cell_type": "code",
      "source": [
        "# summarize class distribution\n",
        "print(\"Before undersampling: \", Counter(y_train))\n",
        "\n",
        "# define undersampling strategy\n",
        "undersample = RandomUnderSampler(sampling_strategy='majority')\n",
        "\n",
        "# fit and apply the transform\n",
        "X_train_under, y_train_under = undersample.fit_resample(X_train, y_train)\n",
        "\n",
        "# summarize class distribution\n",
        "print(\"After undersampling: \", Counter(y_train_under))"
      ],
      "metadata": {
        "colab": {
          "base_uri": "https://localhost:8080/"
        },
        "id": "H5vvMlRq90DS",
        "outputId": "bf7fa086-fd47-4a34-d737-f51138836875"
      },
      "execution_count": 441,
      "outputs": [
        {
          "output_type": "stream",
          "name": "stdout",
          "text": [
            "Before undersampling:  Counter({'unacc': 975, 'acc': 301, 'good': 58, 'vgood': 48})\n",
            "After undersampling:  Counter({'acc': 301, 'good': 58, 'unacc': 48, 'vgood': 48})\n"
          ]
        }
      ]
    },
    {
      "cell_type": "code",
      "source": [
        "# check again the shape of X_train after undersampling\n",
        "\n",
        "X_train_under.shape, X_test.shape"
      ],
      "metadata": {
        "colab": {
          "base_uri": "https://localhost:8080/"
        },
        "id": "DiuMhdjOwq2k",
        "outputId": "8a17da1e-6477-4396-9d8b-200224fbf7a2"
      },
      "execution_count": 442,
      "outputs": [
        {
          "output_type": "execute_result",
          "data": {
            "text/plain": [
              "((455, 6), (346, 6))"
            ]
          },
          "metadata": {},
          "execution_count": 442
        }
      ]
    },
    {
      "cell_type": "markdown",
      "source": [
        "Okay, our data has been balanced!\n",
        "\n",
        "We now have training and test set ready for model building. "
      ],
      "metadata": {
        "id": "NyFBpbebvEhE"
      }
    },
    {
      "cell_type": "markdown",
      "source": [
        "## 6. Modelling"
      ],
      "metadata": {
        "id": "V_42TqoNzxzJ"
      }
    },
    {
      "cell_type": "markdown",
      "source": [
        "### 6.1. Modelling Decision Tree Classifier with criterion gini index\n",
        "\n",
        "In this decision tree model, it uses `criterion = 'entropy'`"
      ],
      "metadata": {
        "id": "k-A9dPFqzztc"
      }
    },
    {
      "cell_type": "code",
      "source": [
        "# import DecisionTreeClassifier\n",
        "\n",
        "from sklearn.tree import DecisionTreeClassifier"
      ],
      "metadata": {
        "id": "x8HwD7_Iyfco"
      },
      "execution_count": 443,
      "outputs": []
    },
    {
      "cell_type": "code",
      "source": [
        "# instantiate the DecisionTreeClassifier model with criterion gini index\n",
        "\n",
        "clf_gini = DecisionTreeClassifier(criterion='gini', random_state=48)\n",
        "\n",
        "\n",
        "# fit the model\n",
        "clf_gini.fit(X_train_under, y_train_under)"
      ],
      "metadata": {
        "colab": {
          "base_uri": "https://localhost:8080/"
        },
        "id": "htINjzDBy4H2",
        "outputId": "269dd526-89c8-4629-c6af-5ac4580935de"
      },
      "execution_count": 465,
      "outputs": [
        {
          "output_type": "execute_result",
          "data": {
            "text/plain": [
              "DecisionTreeClassifier(random_state=48)"
            ]
          },
          "metadata": {},
          "execution_count": 465
        }
      ]
    },
    {
      "cell_type": "markdown",
      "source": [
        "**Predict the Test set results with criterion gini index**"
      ],
      "metadata": {
        "id": "fnT0kM6rz7dI"
      }
    },
    {
      "cell_type": "code",
      "source": [
        "y_pred_gini = clf_gini.predict(X_test)"
      ],
      "metadata": {
        "id": "eyoRflAwy5t6"
      },
      "execution_count": 466,
      "outputs": []
    },
    {
      "cell_type": "markdown",
      "source": [
        "**Check accuracy score with criterion gini index**"
      ],
      "metadata": {
        "id": "cOftpopk0B9J"
      }
    },
    {
      "cell_type": "code",
      "source": [
        "from sklearn.metrics import accuracy_score\n",
        "\n",
        "print('Model accuracy score with criterion gini index: {0:0.4f}'. format(accuracy_score(y_test, y_pred_gini)))"
      ],
      "metadata": {
        "colab": {
          "base_uri": "https://localhost:8080/"
        },
        "id": "iNSmX95Ey642",
        "outputId": "f8b1b4d3-78c8-499e-a2b5-49d2a29dd1d1"
      },
      "execution_count": 467,
      "outputs": [
        {
          "output_type": "stream",
          "name": "stdout",
          "text": [
            "Model accuracy score with criterion gini index: 0.9364\n"
          ]
        }
      ]
    },
    {
      "cell_type": "markdown",
      "source": [
        "Here, **y_test** are the true class labels and **y_pred_gini** are the predicted class labels in the test-set."
      ],
      "metadata": {
        "id": "FceYwcic0GqN"
      }
    },
    {
      "cell_type": "markdown",
      "source": [
        "**Compare the train-set and test-set accuracy**\n",
        "\n",
        "Now, I will compare the train-set and test-set accuracy to check for overfitting."
      ],
      "metadata": {
        "id": "SZmVauQi0LNu"
      }
    },
    {
      "cell_type": "code",
      "source": [
        "y_pred_train_gini = clf_gini.predict(X_train_under)\n",
        "\n",
        "y_pred_train_gini"
      ],
      "metadata": {
        "colab": {
          "base_uri": "https://localhost:8080/"
        },
        "id": "cRoGb_30y8BC",
        "outputId": "ab5dc1d4-5e81-419a-c9b2-1da67ce1061e"
      },
      "execution_count": 468,
      "outputs": [
        {
          "output_type": "execute_result",
          "data": {
            "text/plain": [
              "array(['acc', 'acc', 'acc', 'acc', 'acc', 'acc', 'acc', 'acc', 'acc',\n",
              "       'acc', 'acc', 'acc', 'acc', 'acc', 'acc', 'acc', 'acc', 'acc',\n",
              "       'acc', 'acc', 'acc', 'acc', 'acc', 'acc', 'acc', 'acc', 'acc',\n",
              "       'acc', 'acc', 'acc', 'acc', 'acc', 'acc', 'acc', 'acc', 'acc',\n",
              "       'acc', 'acc', 'acc', 'acc', 'acc', 'acc', 'acc', 'acc', 'acc',\n",
              "       'acc', 'acc', 'acc', 'acc', 'acc', 'acc', 'acc', 'acc', 'acc',\n",
              "       'acc', 'acc', 'acc', 'acc', 'acc', 'acc', 'acc', 'acc', 'acc',\n",
              "       'acc', 'acc', 'acc', 'acc', 'acc', 'acc', 'acc', 'acc', 'acc',\n",
              "       'acc', 'acc', 'acc', 'acc', 'acc', 'acc', 'acc', 'acc', 'acc',\n",
              "       'acc', 'acc', 'acc', 'acc', 'acc', 'acc', 'acc', 'acc', 'acc',\n",
              "       'acc', 'acc', 'acc', 'acc', 'acc', 'acc', 'acc', 'acc', 'acc',\n",
              "       'acc', 'acc', 'acc', 'acc', 'acc', 'acc', 'acc', 'acc', 'acc',\n",
              "       'acc', 'acc', 'acc', 'acc', 'acc', 'acc', 'acc', 'acc', 'acc',\n",
              "       'acc', 'acc', 'acc', 'acc', 'acc', 'acc', 'acc', 'acc', 'acc',\n",
              "       'acc', 'acc', 'acc', 'acc', 'acc', 'acc', 'acc', 'acc', 'acc',\n",
              "       'acc', 'acc', 'acc', 'acc', 'acc', 'acc', 'acc', 'acc', 'acc',\n",
              "       'acc', 'acc', 'acc', 'acc', 'acc', 'acc', 'acc', 'acc', 'acc',\n",
              "       'acc', 'acc', 'acc', 'acc', 'acc', 'acc', 'acc', 'acc', 'acc',\n",
              "       'acc', 'acc', 'acc', 'acc', 'acc', 'acc', 'acc', 'acc', 'acc',\n",
              "       'acc', 'acc', 'acc', 'acc', 'acc', 'acc', 'acc', 'acc', 'acc',\n",
              "       'acc', 'acc', 'acc', 'acc', 'acc', 'acc', 'acc', 'acc', 'acc',\n",
              "       'acc', 'acc', 'acc', 'acc', 'acc', 'acc', 'acc', 'acc', 'acc',\n",
              "       'acc', 'acc', 'acc', 'acc', 'acc', 'acc', 'acc', 'acc', 'acc',\n",
              "       'acc', 'acc', 'acc', 'acc', 'acc', 'acc', 'acc', 'acc', 'acc',\n",
              "       'acc', 'acc', 'acc', 'acc', 'acc', 'acc', 'acc', 'acc', 'acc',\n",
              "       'acc', 'acc', 'acc', 'acc', 'acc', 'acc', 'acc', 'acc', 'acc',\n",
              "       'acc', 'acc', 'acc', 'acc', 'acc', 'acc', 'acc', 'acc', 'acc',\n",
              "       'acc', 'acc', 'acc', 'acc', 'acc', 'acc', 'acc', 'acc', 'acc',\n",
              "       'acc', 'acc', 'acc', 'acc', 'acc', 'acc', 'acc', 'acc', 'acc',\n",
              "       'acc', 'acc', 'acc', 'acc', 'acc', 'acc', 'acc', 'acc', 'acc',\n",
              "       'acc', 'acc', 'acc', 'acc', 'acc', 'acc', 'acc', 'acc', 'acc',\n",
              "       'acc', 'acc', 'acc', 'acc', 'acc', 'acc', 'acc', 'acc', 'acc',\n",
              "       'acc', 'acc', 'acc', 'acc', 'acc', 'acc', 'acc', 'acc', 'acc',\n",
              "       'acc', 'acc', 'acc', 'acc', 'good', 'good', 'good', 'good', 'good',\n",
              "       'good', 'good', 'good', 'good', 'good', 'good', 'good', 'good',\n",
              "       'good', 'good', 'good', 'good', 'good', 'good', 'good', 'good',\n",
              "       'good', 'good', 'good', 'good', 'good', 'good', 'good', 'good',\n",
              "       'good', 'good', 'good', 'good', 'good', 'good', 'good', 'good',\n",
              "       'good', 'good', 'good', 'good', 'good', 'good', 'good', 'good',\n",
              "       'good', 'good', 'good', 'good', 'good', 'good', 'good', 'good',\n",
              "       'good', 'good', 'good', 'good', 'good', 'unacc', 'unacc', 'unacc',\n",
              "       'unacc', 'unacc', 'unacc', 'unacc', 'unacc', 'unacc', 'unacc',\n",
              "       'unacc', 'unacc', 'unacc', 'unacc', 'unacc', 'unacc', 'unacc',\n",
              "       'unacc', 'unacc', 'unacc', 'unacc', 'unacc', 'unacc', 'unacc',\n",
              "       'unacc', 'unacc', 'unacc', 'unacc', 'unacc', 'unacc', 'unacc',\n",
              "       'unacc', 'unacc', 'unacc', 'unacc', 'unacc', 'unacc', 'unacc',\n",
              "       'unacc', 'unacc', 'unacc', 'unacc', 'unacc', 'unacc', 'unacc',\n",
              "       'unacc', 'unacc', 'unacc', 'vgood', 'vgood', 'vgood', 'vgood',\n",
              "       'vgood', 'vgood', 'vgood', 'vgood', 'vgood', 'vgood', 'vgood',\n",
              "       'vgood', 'vgood', 'vgood', 'vgood', 'vgood', 'vgood', 'vgood',\n",
              "       'vgood', 'vgood', 'vgood', 'vgood', 'vgood', 'vgood', 'vgood',\n",
              "       'vgood', 'vgood', 'vgood', 'vgood', 'vgood', 'vgood', 'vgood',\n",
              "       'vgood', 'vgood', 'vgood', 'vgood', 'vgood', 'vgood', 'vgood',\n",
              "       'vgood', 'vgood', 'vgood', 'vgood', 'vgood', 'vgood', 'vgood',\n",
              "       'vgood', 'vgood'], dtype=object)"
            ]
          },
          "metadata": {},
          "execution_count": 468
        }
      ]
    },
    {
      "cell_type": "code",
      "source": [
        "print('Training-set accuracy score: {0:0.4f}'. format(accuracy_score(y_train_under, y_pred_train_gini)))"
      ],
      "metadata": {
        "colab": {
          "base_uri": "https://localhost:8080/"
        },
        "id": "Nyj8xXyxy9-g",
        "outputId": "e5a25c1b-b20c-42c1-f19a-256367747238"
      },
      "execution_count": 469,
      "outputs": [
        {
          "output_type": "stream",
          "name": "stdout",
          "text": [
            "Training-set accuracy score: 1.0000\n"
          ]
        }
      ]
    },
    {
      "cell_type": "markdown",
      "source": [
        "**Check for overfitting and underfitting**"
      ],
      "metadata": {
        "id": "RBD8fe4Z0S59"
      }
    },
    {
      "cell_type": "code",
      "source": [
        "# print the scores on training and test set\n",
        "\n",
        "print('Training set score: {:.4f}'.format(clf_gini.score(X_train_under, y_train_under)))\n",
        "\n",
        "print('Test set score: {:.4f}'.format(clf_gini.score(X_test, y_test)))"
      ],
      "metadata": {
        "colab": {
          "base_uri": "https://localhost:8080/"
        },
        "id": "R1sjbOXczBLW",
        "outputId": "e08a75d2-3a3c-4417-d785-385dab9c055b"
      },
      "execution_count": 470,
      "outputs": [
        {
          "output_type": "stream",
          "name": "stdout",
          "text": [
            "Training set score: 1.0000\n",
            "Test set score: 0.9364\n"
          ]
        }
      ]
    },
    {
      "cell_type": "markdown",
      "source": [
        "Here, the training-set accuracy score is 1.0000 while the test-set accuracy to be 0.9364. The model is overfitting, train > test, 100% > 93.64% \n",
        "\n"
      ],
      "metadata": {
        "id": "dSFqk2rt0XDD"
      }
    },
    {
      "cell_type": "markdown",
      "source": [
        "### 6.2. Modelling Decision Tree Classifier with criterion gini index and feature selection"
      ],
      "metadata": {
        "id": "fpA8IzMMymK7"
      }
    },
    {
      "cell_type": "code",
      "source": [
        "# view the feature scores\n",
        "\n",
        "feature_scores = pd.Series(clf_gini.feature_importances_, index=X_train_under.columns).sort_values(ascending=False)\n",
        "\n",
        "feature_scores"
      ],
      "metadata": {
        "colab": {
          "base_uri": "https://localhost:8080/"
        },
        "id": "d1I5-2vjl4DB",
        "outputId": "5a1d200b-fbd5-4b74-cd96-1ccb3d37e843"
      },
      "execution_count": 471,
      "outputs": [
        {
          "output_type": "execute_result",
          "data": {
            "text/plain": [
              "safety      0.249925\n",
              "maint       0.211931\n",
              "lug_boot    0.206469\n",
              "buying      0.191098\n",
              "persons     0.074991\n",
              "doors       0.065586\n",
              "dtype: float64"
            ]
          },
          "metadata": {},
          "execution_count": 471
        }
      ]
    },
    {
      "cell_type": "code",
      "source": [
        "# Creating a seaborn bar plot\n",
        "\n",
        "sns.barplot(x=feature_scores, y=feature_scores.index)\n",
        "\n",
        "\n",
        "\n",
        "# Add labels to the graph\n",
        "\n",
        "plt.xlabel('Feature Importance Score')\n",
        "\n",
        "plt.ylabel('Features')\n",
        "\n",
        "\n",
        "\n",
        "# Add title to the graph\n",
        "\n",
        "plt.title(\"Visualizing Important Features\")\n",
        "\n",
        "\n",
        "\n",
        "# Visualize the graph\n",
        "\n",
        "plt.show()"
      ],
      "metadata": {
        "colab": {
          "base_uri": "https://localhost:8080/",
          "height": 295
        },
        "id": "0l413zqHmEji",
        "outputId": "3498d186-9edc-475d-abfa-3eb3188ba4fd"
      },
      "execution_count": 472,
      "outputs": [
        {
          "output_type": "display_data",
          "data": {
            "text/plain": [
              "<Figure size 432x288 with 1 Axes>"
            ],
            "image/png": "[encoded data removed]"
          },
          "metadata": {
            "needs_background": "light"
          }
        }
      ]
    },
    {
      "cell_type": "markdown",
      "source": [
        "Berdasarkan feature importance, feature `doors` memiliki nilai terendah, yakni 0.065. Kita dapat drop feature dan build model kembali.\n",
        "\n",
        "\n",
        "\n"
      ],
      "metadata": {
        "id": "0iqruTkElJxQ"
      }
    },
    {
      "cell_type": "code",
      "source": [
        "X_train_under"
      ],
      "metadata": {
        "colab": {
          "base_uri": "https://localhost:8080/",
          "height": 424
        },
        "id": "Ps_VSM-TmxMF",
        "outputId": "ffb7c45a-4237-4a9d-dbf3-91493d54e54a"
      },
      "execution_count": 473,
      "outputs": [
        {
          "output_type": "execute_result",
          "data": {
            "text/plain": [
              "     buying  maint  doors  persons  lug_boot  safety\n",
              "0         4      3      3        1         2       1\n",
              "1         2      1      2        1         1       1\n",
              "2         2      1      4        2         1       1\n",
              "3         4      4      2        1         3       1\n",
              "4         2      4      2        2         2       1\n",
              "..      ...    ...    ...      ...       ...     ...\n",
              "450       3      4      1        1         3       1\n",
              "451       3      4      1        2         3       1\n",
              "452       2      3      1        1         3       1\n",
              "453       2      2      2        1         3       1\n",
              "454       2      3      2        1         3       1\n",
              "\n",
              "[455 rows x 6 columns]"
            ],
            "text/html": [
              "\n",
              "  <div id=\"df-20fb20b6-436c-4824-a3b2-6fcdf09c7e6f\">\n",
              "    <div class=\"colab-df-container\">\n",
              "      <div>\n",
              "<style scoped>\n",
              "    .dataframe tbody tr th:only-of-type {\n",
              "        vertical-align: middle;\n",
              "    }\n",
              "\n",
              "    .dataframe tbody tr th {\n",
              "        vertical-align: top;\n",
              "    }\n",
              "\n",
              "    .dataframe thead th {\n",
              "        text-align: right;\n",
              "    }\n",
              "</style>\n",
              "<table border=\"1\" class=\"dataframe\">\n",
              "  <thead>\n",
              "    <tr style=\"text-align: right;\">\n",
              "      <th></th>\n",
              "      <th>buying</th>\n",
              "      <th>maint</th>\n",
              "      <th>doors</th>\n",
              "      <th>persons</th>\n",
              "      <th>lug_boot</th>\n",
              "      <th>safety</th>\n",
              "    </tr>\n",
              "  </thead>\n",
              "  <tbody>\n",
              "    <tr>\n",
              "      <th>0</th>\n",
              "      <td>4</td>\n",
              "      <td>3</td>\n",
              "      <td>3</td>\n",
              "      <td>1</td>\n",
              "      <td>2</td>\n",
              "      <td>1</td>\n",
              "    </tr>\n",
              "    <tr>\n",
              "      <th>1</th>\n",
              "      <td>2</td>\n",
              "      <td>1</td>\n",
              "      <td>2</td>\n",
              "      <td>1</td>\n",
              "      <td>1</td>\n",
              "      <td>1</td>\n",
              "    </tr>\n",
              "    <tr>\n",
              "      <th>2</th>\n",
              "      <td>2</td>\n",
              "      <td>1</td>\n",
              "      <td>4</td>\n",
              "      <td>2</td>\n",
              "      <td>1</td>\n",
              "      <td>1</td>\n",
              "    </tr>\n",
              "    <tr>\n",
              "      <th>3</th>\n",
              "      <td>4</td>\n",
              "      <td>4</td>\n",
              "      <td>2</td>\n",
              "      <td>1</td>\n",
              "      <td>3</td>\n",
              "      <td>1</td>\n",
              "    </tr>\n",
              "    <tr>\n",
              "      <th>4</th>\n",
              "      <td>2</td>\n",
              "      <td>4</td>\n",
              "      <td>2</td>\n",
              "      <td>2</td>\n",
              "      <td>2</td>\n",
              "      <td>1</td>\n",
              "    </tr>\n",
              "    <tr>\n",
              "      <th>...</th>\n",
              "      <td>...</td>\n",
              "      <td>...</td>\n",
              "      <td>...</td>\n",
              "      <td>...</td>\n",
              "      <td>...</td>\n",
              "      <td>...</td>\n",
              "    </tr>\n",
              "    <tr>\n",
              "      <th>450</th>\n",
              "      <td>3</td>\n",
              "      <td>4</td>\n",
              "      <td>1</td>\n",
              "      <td>1</td>\n",
              "      <td>3</td>\n",
              "      <td>1</td>\n",
              "    </tr>\n",
              "    <tr>\n",
              "      <th>451</th>\n",
              "      <td>3</td>\n",
              "      <td>4</td>\n",
              "      <td>1</td>\n",
              "      <td>2</td>\n",
              "      <td>3</td>\n",
              "      <td>1</td>\n",
              "    </tr>\n",
              "    <tr>\n",
              "      <th>452</th>\n",
              "      <td>2</td>\n",
              "      <td>3</td>\n",
              "      <td>1</td>\n",
              "      <td>1</td>\n",
              "      <td>3</td>\n",
              "      <td>1</td>\n",
              "    </tr>\n",
              "    <tr>\n",
              "      <th>453</th>\n",
              "      <td>2</td>\n",
              "      <td>2</td>\n",
              "      <td>2</td>\n",
              "      <td>1</td>\n",
              "      <td>3</td>\n",
              "      <td>1</td>\n",
              "    </tr>\n",
              "    <tr>\n",
              "      <th>454</th>\n",
              "      <td>2</td>\n",
              "      <td>3</td>\n",
              "      <td>2</td>\n",
              "      <td>1</td>\n",
              "      <td>3</td>\n",
              "      <td>1</td>\n",
              "    </tr>\n",
              "  </tbody>\n",
              "</table>\n",
              "<p>455 rows × 6 columns</p>\n",
              "</div>\n",
              "      <button class=\"colab-df-convert\" onclick=\"convertToInteractive('df-20fb20b6-436c-4824-a3b2-6fcdf09c7e6f')\"\n",
              "              title=\"Convert this dataframe to an interactive table.\"\n",
              "              style=\"display:none;\">\n",
              "        \n",
              "  <svg xmlns=\"http://www.w3.org/2000/svg\" height=\"24px\"viewBox=\"0 0 24 24\"\n",
              "       width=\"24px\">\n",
              "    <path d=\"M0 0h24v24H0V0z\" fill=\"none\"/>\n",
              "    <path d=\"M18.56 5.44l.94 2.06.94-2.06 2.06-.94-2.06-.94-.94-2.06-.94 2.06-2.06.94zm-11 1L8.5 8.5l.94-2.06 2.06-.94-2.06-.94L8.5 2.5l-.94 2.06-2.06.94zm10 10l.94 2.06.94-2.06 2.06-.94-2.06-.94-.94-2.06-.94 2.06-2.06.94z\"/><path d=\"M17.41 7.96l-1.37-1.37c-.4-.4-.92-.59-1.43-.59-.52 0-1.04.2-1.43.59L10.3 9.45l-7.72 7.72c-.78.78-.78 2.05 0 2.83L4 21.41c.39.39.9.59 1.41.59.51 0 1.02-.2 1.41-.59l7.78-7.78 2.81-2.81c.8-.78.8-2.07 0-2.86zM5.41 20L4 18.59l7.72-7.72 1.47 1.35L5.41 20z\"/>\n",
              "  </svg>\n",
              "      </button>\n",
              "      \n",
              "  <style>\n",
              "    .colab-df-container {\n",
              "      display:flex;\n",
              "      flex-wrap:wrap;\n",
              "      gap: 12px;\n",
              "    }\n",
              "\n",
              "    .colab-df-convert {\n",
              "      background-color: #E8F0FE;\n",
              "      border: none;\n",
              "      border-radius: 50%;\n",
              "      cursor: pointer;\n",
              "      display: none;\n",
              "      fill: #1967D2;\n",
              "      height: 32px;\n",
              "      padding: 0 0 0 0;\n",
              "      width: 32px;\n",
              "    }\n",
              "\n",
              "    .colab-df-convert:hover {\n",
              "      background-color: #E2EBFA;\n",
              "      box-shadow: 0px 1px 2px rgba(60, 64, 67, 0.3), 0px 1px 3px 1px rgba(60, 64, 67, 0.15);\n",
              "      fill: #174EA6;\n",
              "    }\n",
              "\n",
              "    [theme=dark] .colab-df-convert {\n",
              "      background-color: #3B4455;\n",
              "      fill: #D2E3FC;\n",
              "    }\n",
              "\n",
              "    [theme=dark] .colab-df-convert:hover {\n",
              "      background-color: #434B5C;\n",
              "      box-shadow: 0px 1px 3px 1px rgba(0, 0, 0, 0.15);\n",
              "      filter: drop-shadow(0px 1px 2px rgba(0, 0, 0, 0.3));\n",
              "      fill: #FFFFFF;\n",
              "    }\n",
              "  </style>\n",
              "\n",
              "      <script>\n",
              "        const buttonEl =\n",
              "          document.querySelector('#df-20fb20b6-436c-4824-a3b2-6fcdf09c7e6f button.colab-df-convert');\n",
              "        buttonEl.style.display =\n",
              "          google.colab.kernel.accessAllowed ? 'block' : 'none';\n",
              "\n",
              "        async function convertToInteractive(key) {\n",
              "          const element = document.querySelector('#df-20fb20b6-436c-4824-a3b2-6fcdf09c7e6f');\n",
              "          const dataTable =\n",
              "            await google.colab.kernel.invokeFunction('convertToInteractive',\n",
              "                                                     [key], {});\n",
              "          if (!dataTable) return;\n",
              "\n",
              "          const docLinkHtml = 'Like what you see? Visit the ' +\n",
              "            '<a target=\"_blank\" href=https://colab.research.google.com/notebooks/data_table.ipynb>data table notebook</a>'\n",
              "            + ' to learn more about interactive tables.';\n",
              "          element.innerHTML = '';\n",
              "          dataTable['output_type'] = 'display_data';\n",
              "          await google.colab.output.renderOutput(dataTable, element);\n",
              "          const docLink = document.createElement('div');\n",
              "          docLink.innerHTML = docLinkHtml;\n",
              "          element.appendChild(docLink);\n",
              "        }\n",
              "      </script>\n",
              "    </div>\n",
              "  </div>\n",
              "  "
            ]
          },
          "metadata": {},
          "execution_count": 473
        }
      ]
    },
    {
      "cell_type": "code",
      "source": [
        "X_test"
      ],
      "metadata": {
        "colab": {
          "base_uri": "https://localhost:8080/",
          "height": 424
        },
        "id": "BjJCoMR1m9_6",
        "outputId": "0e72dfaf-d0f1-437a-99fd-32f2f7d4483a"
      },
      "execution_count": 474,
      "outputs": [
        {
          "output_type": "execute_result",
          "data": {
            "text/plain": [
              "      buying  maint  doors  persons  lug_boot  safety\n",
              "599        4      4      3        3         3       1\n",
              "1201       2      2      4        2         3       2\n",
              "628        4      4      1        3         1       2\n",
              "1498       3      4      1        2         3       2\n",
              "1263       2      2      3        1         3       3\n",
              "...      ...    ...    ...      ...       ...     ...\n",
              "100        1      1      1        1         2       2\n",
              "274        1      3      3        3         3       2\n",
              "1206       2      2      4        1         2       3\n",
              "101        1      1      1        1         2       1\n",
              "1084       2      3      4        3         3       2\n",
              "\n",
              "[346 rows x 6 columns]"
            ],
            "text/html": [
              "\n",
              "  <div id=\"df-f5d926d5-3af3-41b4-828a-e7ec25d80f91\">\n",
              "    <div class=\"colab-df-container\">\n",
              "      <div>\n",
              "<style scoped>\n",
              "    .dataframe tbody tr th:only-of-type {\n",
              "        vertical-align: middle;\n",
              "    }\n",
              "\n",
              "    .dataframe tbody tr th {\n",
              "        vertical-align: top;\n",
              "    }\n",
              "\n",
              "    .dataframe thead th {\n",
              "        text-align: right;\n",
              "    }\n",
              "</style>\n",
              "<table border=\"1\" class=\"dataframe\">\n",
              "  <thead>\n",
              "    <tr style=\"text-align: right;\">\n",
              "      <th></th>\n",
              "      <th>buying</th>\n",
              "      <th>maint</th>\n",
              "      <th>doors</th>\n",
              "      <th>persons</th>\n",
              "      <th>lug_boot</th>\n",
              "      <th>safety</th>\n",
              "    </tr>\n",
              "  </thead>\n",
              "  <tbody>\n",
              "    <tr>\n",
              "      <th>599</th>\n",
              "      <td>4</td>\n",
              "      <td>4</td>\n",
              "      <td>3</td>\n",
              "      <td>3</td>\n",
              "      <td>3</td>\n",
              "      <td>1</td>\n",
              "    </tr>\n",
              "    <tr>\n",
              "      <th>1201</th>\n",
              "      <td>2</td>\n",
              "      <td>2</td>\n",
              "      <td>4</td>\n",
              "      <td>2</td>\n",
              "      <td>3</td>\n",
              "      <td>2</td>\n",
              "    </tr>\n",
              "    <tr>\n",
              "      <th>628</th>\n",
              "      <td>4</td>\n",
              "      <td>4</td>\n",
              "      <td>1</td>\n",
              "      <td>3</td>\n",
              "      <td>1</td>\n",
              "      <td>2</td>\n",
              "    </tr>\n",
              "    <tr>\n",
              "      <th>1498</th>\n",
              "      <td>3</td>\n",
              "      <td>4</td>\n",
              "      <td>1</td>\n",
              "      <td>2</td>\n",
              "      <td>3</td>\n",
              "      <td>2</td>\n",
              "    </tr>\n",
              "    <tr>\n",
              "      <th>1263</th>\n",
              "      <td>2</td>\n",
              "      <td>2</td>\n",
              "      <td>3</td>\n",
              "      <td>1</td>\n",
              "      <td>3</td>\n",
              "      <td>3</td>\n",
              "    </tr>\n",
              "    <tr>\n",
              "      <th>...</th>\n",
              "      <td>...</td>\n",
              "      <td>...</td>\n",
              "      <td>...</td>\n",
              "      <td>...</td>\n",
              "      <td>...</td>\n",
              "      <td>...</td>\n",
              "    </tr>\n",
              "    <tr>\n",
              "      <th>100</th>\n",
              "      <td>1</td>\n",
              "      <td>1</td>\n",
              "      <td>1</td>\n",
              "      <td>1</td>\n",
              "      <td>2</td>\n",
              "      <td>2</td>\n",
              "    </tr>\n",
              "    <tr>\n",
              "      <th>274</th>\n",
              "      <td>1</td>\n",
              "      <td>3</td>\n",
              "      <td>3</td>\n",
              "      <td>3</td>\n",
              "      <td>3</td>\n",
              "      <td>2</td>\n",
              "    </tr>\n",
              "    <tr>\n",
              "      <th>1206</th>\n",
              "      <td>2</td>\n",
              "      <td>2</td>\n",
              "      <td>4</td>\n",
              "      <td>1</td>\n",
              "      <td>2</td>\n",
              "      <td>3</td>\n",
              "    </tr>\n",
              "    <tr>\n",
              "      <th>101</th>\n",
              "      <td>1</td>\n",
              "      <td>1</td>\n",
              "      <td>1</td>\n",
              "      <td>1</td>\n",
              "      <td>2</td>\n",
              "      <td>1</td>\n",
              "    </tr>\n",
              "    <tr>\n",
              "      <th>1084</th>\n",
              "      <td>2</td>\n",
              "      <td>3</td>\n",
              "      <td>4</td>\n",
              "      <td>3</td>\n",
              "      <td>3</td>\n",
              "      <td>2</td>\n",
              "    </tr>\n",
              "  </tbody>\n",
              "</table>\n",
              "<p>346 rows × 6 columns</p>\n",
              "</div>\n",
              "      <button class=\"colab-df-convert\" onclick=\"convertToInteractive('df-f5d926d5-3af3-41b4-828a-e7ec25d80f91')\"\n",
              "              title=\"Convert this dataframe to an interactive table.\"\n",
              "              style=\"display:none;\">\n",
              "        \n",
              "  <svg xmlns=\"http://www.w3.org/2000/svg\" height=\"24px\"viewBox=\"0 0 24 24\"\n",
              "       width=\"24px\">\n",
              "    <path d=\"M0 0h24v24H0V0z\" fill=\"none\"/>\n",
              "    <path d=\"M18.56 5.44l.94 2.06.94-2.06 2.06-.94-2.06-.94-.94-2.06-.94 2.06-2.06.94zm-11 1L8.5 8.5l.94-2.06 2.06-.94-2.06-.94L8.5 2.5l-.94 2.06-2.06.94zm10 10l.94 2.06.94-2.06 2.06-.94-2.06-.94-.94-2.06-.94 2.06-2.06.94z\"/><path d=\"M17.41 7.96l-1.37-1.37c-.4-.4-.92-.59-1.43-.59-.52 0-1.04.2-1.43.59L10.3 9.45l-7.72 7.72c-.78.78-.78 2.05 0 2.83L4 21.41c.39.39.9.59 1.41.59.51 0 1.02-.2 1.41-.59l7.78-7.78 2.81-2.81c.8-.78.8-2.07 0-2.86zM5.41 20L4 18.59l7.72-7.72 1.47 1.35L5.41 20z\"/>\n",
              "  </svg>\n",
              "      </button>\n",
              "      \n",
              "  <style>\n",
              "    .colab-df-container {\n",
              "      display:flex;\n",
              "      flex-wrap:wrap;\n",
              "      gap: 12px;\n",
              "    }\n",
              "\n",
              "    .colab-df-convert {\n",
              "      background-color: #E8F0FE;\n",
              "      border: none;\n",
              "      border-radius: 50%;\n",
              "      cursor: pointer;\n",
              "      display: none;\n",
              "      fill: #1967D2;\n",
              "      height: 32px;\n",
              "      padding: 0 0 0 0;\n",
              "      width: 32px;\n",
              "    }\n",
              "\n",
              "    .colab-df-convert:hover {\n",
              "      background-color: #E2EBFA;\n",
              "      box-shadow: 0px 1px 2px rgba(60, 64, 67, 0.3), 0px 1px 3px 1px rgba(60, 64, 67, 0.15);\n",
              "      fill: #174EA6;\n",
              "    }\n",
              "\n",
              "    [theme=dark] .colab-df-convert {\n",
              "      background-color: #3B4455;\n",
              "      fill: #D2E3FC;\n",
              "    }\n",
              "\n",
              "    [theme=dark] .colab-df-convert:hover {\n",
              "      background-color: #434B5C;\n",
              "      box-shadow: 0px 1px 3px 1px rgba(0, 0, 0, 0.15);\n",
              "      filter: drop-shadow(0px 1px 2px rgba(0, 0, 0, 0.3));\n",
              "      fill: #FFFFFF;\n",
              "    }\n",
              "  </style>\n",
              "\n",
              "      <script>\n",
              "        const buttonEl =\n",
              "          document.querySelector('#df-f5d926d5-3af3-41b4-828a-e7ec25d80f91 button.colab-df-convert');\n",
              "        buttonEl.style.display =\n",
              "          google.colab.kernel.accessAllowed ? 'block' : 'none';\n",
              "\n",
              "        async function convertToInteractive(key) {\n",
              "          const element = document.querySelector('#df-f5d926d5-3af3-41b4-828a-e7ec25d80f91');\n",
              "          const dataTable =\n",
              "            await google.colab.kernel.invokeFunction('convertToInteractive',\n",
              "                                                     [key], {});\n",
              "          if (!dataTable) return;\n",
              "\n",
              "          const docLinkHtml = 'Like what you see? Visit the ' +\n",
              "            '<a target=\"_blank\" href=https://colab.research.google.com/notebooks/data_table.ipynb>data table notebook</a>'\n",
              "            + ' to learn more about interactive tables.';\n",
              "          element.innerHTML = '';\n",
              "          dataTable['output_type'] = 'display_data';\n",
              "          await google.colab.output.renderOutput(dataTable, element);\n",
              "          const docLink = document.createElement('div');\n",
              "          docLink.innerHTML = docLinkHtml;\n",
              "          element.appendChild(docLink);\n",
              "        }\n",
              "      </script>\n",
              "    </div>\n",
              "  </div>\n",
              "  "
            ]
          },
          "metadata": {},
          "execution_count": 474
        }
      ]
    },
    {
      "cell_type": "code",
      "source": [
        "# drop feature doors\n",
        "X_train_under_drop1 = X_train_under.drop(['doors'], axis=1)\n",
        "X_test_drop1 = X_test.drop(['doors'], axis=1)"
      ],
      "metadata": {
        "id": "sXUnOvrGlkPY"
      },
      "execution_count": 475,
      "outputs": []
    },
    {
      "cell_type": "code",
      "source": [
        "X_train_under_drop1.info()"
      ],
      "metadata": {
        "colab": {
          "base_uri": "https://localhost:8080/"
        },
        "id": "gLDEvQStnF3I",
        "outputId": "40199f32-996b-4364-974e-b6babb1ff715"
      },
      "execution_count": 476,
      "outputs": [
        {
          "output_type": "stream",
          "name": "stdout",
          "text": [
            "<class 'pandas.core.frame.DataFrame'>\n",
            "RangeIndex: 455 entries, 0 to 454\n",
            "Data columns (total 5 columns):\n",
            " #   Column    Non-Null Count  Dtype\n",
            "---  ------    --------------  -----\n",
            " 0   buying    455 non-null    int64\n",
            " 1   maint     455 non-null    int64\n",
            " 2   persons   455 non-null    int64\n",
            " 3   lug_boot  455 non-null    int64\n",
            " 4   safety    455 non-null    int64\n",
            "dtypes: int64(5)\n",
            "memory usage: 17.9 KB\n"
          ]
        }
      ]
    },
    {
      "cell_type": "code",
      "source": [
        "X_test_drop1.info()"
      ],
      "metadata": {
        "colab": {
          "base_uri": "https://localhost:8080/"
        },
        "id": "NQpBKNcdnPWj",
        "outputId": "728f9e03-352f-4513-96c1-92dd41b9193c"
      },
      "execution_count": 477,
      "outputs": [
        {
          "output_type": "stream",
          "name": "stdout",
          "text": [
            "<class 'pandas.core.frame.DataFrame'>\n",
            "Int64Index: 346 entries, 599 to 1084\n",
            "Data columns (total 5 columns):\n",
            " #   Column    Non-Null Count  Dtype\n",
            "---  ------    --------------  -----\n",
            " 0   buying    346 non-null    int64\n",
            " 1   maint     346 non-null    int64\n",
            " 2   persons   346 non-null    int64\n",
            " 3   lug_boot  346 non-null    int64\n",
            " 4   safety    346 non-null    int64\n",
            "dtypes: int64(5)\n",
            "memory usage: 16.2 KB\n"
          ]
        }
      ]
    },
    {
      "cell_type": "code",
      "source": [
        "# instantiate the DecisionTreeClassifier model with criterion gini index\n",
        "clf_gini_feature_importance = DecisionTreeClassifier(criterion='gini', random_state=0)\n",
        "\n",
        "# fit the model\n",
        "clf_gini_feature_importance.fit(X_train_under_drop1, y_train_under)\n",
        "\n",
        "# predict test set\n",
        "y_pred_feature_gini = clf_gini_feature_importance.predict(X_test_drop1)\n",
        "\n",
        "# check accuracy\n",
        "from sklearn.metrics import accuracy_score\n",
        "\n",
        "print('Model accuracy score with criterion gini index: {0:0.4f}'. format(accuracy_score(y_test, y_pred_feature_gini)))\n",
        "\n",
        "# compare\n",
        "y_pred_train_gini = clf_gini_feature_importance.predict(X_train_under_drop1)\n",
        "\n",
        "print('Training-set accuracy score: {0:0.4f}'. format(accuracy_score(y_train_under, y_pred_train_gini)))\n",
        "\n",
        "# check overfitting & underfitting\n",
        "# print the scores on training and test set\n",
        "\n",
        "print('Training set score: {:.4f}'.format(clf_gini_feature_importance.score(X_train_under_drop1, y_train_under)))\n",
        "\n",
        "print('Test set score: {:.4f}'.format(clf_gini_feature_importance.score(X_test_drop1, y_test)))\n"
      ],
      "metadata": {
        "colab": {
          "base_uri": "https://localhost:8080/"
        },
        "id": "X_KPYoaJoJsc",
        "outputId": "cdff1a39-3042-43fe-dbad-b4c91a08e172"
      },
      "execution_count": 478,
      "outputs": [
        {
          "output_type": "stream",
          "name": "stdout",
          "text": [
            "Model accuracy score with criterion gini index: 0.9306\n",
            "Training-set accuracy score: 0.9714\n",
            "Training set score: 0.9714\n",
            "Test set score: 0.9306\n"
          ]
        }
      ]
    },
    {
      "cell_type": "markdown",
      "source": [
        "Here, the training-set accuracy score is 0.9714 while the test-set accuracy to be 0.9306. These two values are quite comparable (1-4%). So, there is no sign of overfitting. \n"
      ],
      "metadata": {
        "id": "Ps2MSaO9zTx-"
      }
    },
    {
      "cell_type": "markdown",
      "source": [
        "### 6.3. Modelling Decision Tree Classifier with criterion entropy"
      ],
      "metadata": {
        "id": "fpnfVIow0hK1"
      }
    },
    {
      "cell_type": "code",
      "source": [
        "# instantiate the DecisionTreeClassifier model with criterion entropy\n",
        "\n",
        "clf_en = DecisionTreeClassifier(criterion='entropy', random_state=21)\n",
        "\n",
        "\n",
        "# fit the model\n",
        "clf_en.fit(X_train_under, y_train_under)"
      ],
      "metadata": {
        "colab": {
          "base_uri": "https://localhost:8080/"
        },
        "id": "IrOXSI1FzCic",
        "outputId": "dc9ef306-bdf6-41b2-f6a7-c009f945e8a6"
      },
      "execution_count": 479,
      "outputs": [
        {
          "output_type": "execute_result",
          "data": {
            "text/plain": [
              "DecisionTreeClassifier(criterion='entropy', random_state=21)"
            ]
          },
          "metadata": {},
          "execution_count": 479
        }
      ]
    },
    {
      "cell_type": "markdown",
      "source": [
        "**Predict the Test set results with criterion entropy**"
      ],
      "metadata": {
        "id": "2zVjuoFG0pTy"
      }
    },
    {
      "cell_type": "code",
      "source": [
        "y_pred_en = clf_en.predict(X_test)"
      ],
      "metadata": {
        "id": "9gZiiCgl0lrC"
      },
      "execution_count": 480,
      "outputs": []
    },
    {
      "cell_type": "markdown",
      "source": [
        "**Check accuracy score with criterion gini index**"
      ],
      "metadata": {
        "id": "ew1zoEGx0yCD"
      }
    },
    {
      "cell_type": "code",
      "source": [
        "from sklearn.metrics import accuracy_score\n",
        "\n",
        "print('Model accuracy score with criterion entropy: {0:0.4f}'. format(accuracy_score(y_test, y_pred_en)))"
      ],
      "metadata": {
        "colab": {
          "base_uri": "https://localhost:8080/"
        },
        "id": "StWrcGAH0ssY",
        "outputId": "7bb6a59c-8ab7-492c-985c-515b3a6c0052"
      },
      "execution_count": 481,
      "outputs": [
        {
          "output_type": "stream",
          "name": "stdout",
          "text": [
            "Model accuracy score with criterion entropy: 0.9220\n"
          ]
        }
      ]
    },
    {
      "cell_type": "markdown",
      "source": [
        "**Compare the train-set and test-set accuracy**\n",
        "\n",
        "Now, I will compare the train-set and test-set accuracy to check for overfitting."
      ],
      "metadata": {
        "id": "hGtCb0tr02Sy"
      }
    },
    {
      "cell_type": "code",
      "source": [
        "y_pred_train_en = clf_en.predict(X_train_under)\n",
        "\n",
        "y_pred_train_en"
      ],
      "metadata": {
        "colab": {
          "base_uri": "https://localhost:8080/"
        },
        "id": "iVlErWX10yfR",
        "outputId": "f94b6c5f-3e0a-48a1-94cd-443eb91ca1c6"
      },
      "execution_count": 482,
      "outputs": [
        {
          "output_type": "execute_result",
          "data": {
            "text/plain": [
              "array(['acc', 'acc', 'acc', 'acc', 'acc', 'acc', 'acc', 'acc', 'acc',\n",
              "       'acc', 'acc', 'acc', 'acc', 'acc', 'acc', 'acc', 'acc', 'acc',\n",
              "       'acc', 'acc', 'acc', 'acc', 'acc', 'acc', 'acc', 'acc', 'acc',\n",
              "       'acc', 'acc', 'acc', 'acc', 'acc', 'acc', 'acc', 'acc', 'acc',\n",
              "       'acc', 'acc', 'acc', 'acc', 'acc', 'acc', 'acc', 'acc', 'acc',\n",
              "       'acc', 'acc', 'acc', 'acc', 'acc', 'acc', 'acc', 'acc', 'acc',\n",
              "       'acc', 'acc', 'acc', 'acc', 'acc', 'acc', 'acc', 'acc', 'acc',\n",
              "       'acc', 'acc', 'acc', 'acc', 'acc', 'acc', 'acc', 'acc', 'acc',\n",
              "       'acc', 'acc', 'acc', 'acc', 'acc', 'acc', 'acc', 'acc', 'acc',\n",
              "       'acc', 'acc', 'acc', 'acc', 'acc', 'acc', 'acc', 'acc', 'acc',\n",
              "       'acc', 'acc', 'acc', 'acc', 'acc', 'acc', 'acc', 'acc', 'acc',\n",
              "       'acc', 'acc', 'acc', 'acc', 'acc', 'acc', 'acc', 'acc', 'acc',\n",
              "       'acc', 'acc', 'acc', 'acc', 'acc', 'acc', 'acc', 'acc', 'acc',\n",
              "       'acc', 'acc', 'acc', 'acc', 'acc', 'acc', 'acc', 'acc', 'acc',\n",
              "       'acc', 'acc', 'acc', 'acc', 'acc', 'acc', 'acc', 'acc', 'acc',\n",
              "       'acc', 'acc', 'acc', 'acc', 'acc', 'acc', 'acc', 'acc', 'acc',\n",
              "       'acc', 'acc', 'acc', 'acc', 'acc', 'acc', 'acc', 'acc', 'acc',\n",
              "       'acc', 'acc', 'acc', 'acc', 'acc', 'acc', 'acc', 'acc', 'acc',\n",
              "       'acc', 'acc', 'acc', 'acc', 'acc', 'acc', 'acc', 'acc', 'acc',\n",
              "       'acc', 'acc', 'acc', 'acc', 'acc', 'acc', 'acc', 'acc', 'acc',\n",
              "       'acc', 'acc', 'acc', 'acc', 'acc', 'acc', 'acc', 'acc', 'acc',\n",
              "       'acc', 'acc', 'acc', 'acc', 'acc', 'acc', 'acc', 'acc', 'acc',\n",
              "       'acc', 'acc', 'acc', 'acc', 'acc', 'acc', 'acc', 'acc', 'acc',\n",
              "       'acc', 'acc', 'acc', 'acc', 'acc', 'acc', 'acc', 'acc', 'acc',\n",
              "       'acc', 'acc', 'acc', 'acc', 'acc', 'acc', 'acc', 'acc', 'acc',\n",
              "       'acc', 'acc', 'acc', 'acc', 'acc', 'acc', 'acc', 'acc', 'acc',\n",
              "       'acc', 'acc', 'acc', 'acc', 'acc', 'acc', 'acc', 'acc', 'acc',\n",
              "       'acc', 'acc', 'acc', 'acc', 'acc', 'acc', 'acc', 'acc', 'acc',\n",
              "       'acc', 'acc', 'acc', 'acc', 'acc', 'acc', 'acc', 'acc', 'acc',\n",
              "       'acc', 'acc', 'acc', 'acc', 'acc', 'acc', 'acc', 'acc', 'acc',\n",
              "       'acc', 'acc', 'acc', 'acc', 'acc', 'acc', 'acc', 'acc', 'acc',\n",
              "       'acc', 'acc', 'acc', 'acc', 'acc', 'acc', 'acc', 'acc', 'acc',\n",
              "       'acc', 'acc', 'acc', 'acc', 'acc', 'acc', 'acc', 'acc', 'acc',\n",
              "       'acc', 'acc', 'acc', 'acc', 'good', 'good', 'good', 'good', 'good',\n",
              "       'good', 'good', 'good', 'good', 'good', 'good', 'good', 'good',\n",
              "       'good', 'good', 'good', 'good', 'good', 'good', 'good', 'good',\n",
              "       'good', 'good', 'good', 'good', 'good', 'good', 'good', 'good',\n",
              "       'good', 'good', 'good', 'good', 'good', 'good', 'good', 'good',\n",
              "       'good', 'good', 'good', 'good', 'good', 'good', 'good', 'good',\n",
              "       'good', 'good', 'good', 'good', 'good', 'good', 'good', 'good',\n",
              "       'good', 'good', 'good', 'good', 'good', 'unacc', 'unacc', 'unacc',\n",
              "       'unacc', 'unacc', 'unacc', 'unacc', 'unacc', 'unacc', 'unacc',\n",
              "       'unacc', 'unacc', 'unacc', 'unacc', 'unacc', 'unacc', 'unacc',\n",
              "       'unacc', 'unacc', 'unacc', 'unacc', 'unacc', 'unacc', 'unacc',\n",
              "       'unacc', 'unacc', 'unacc', 'unacc', 'unacc', 'unacc', 'unacc',\n",
              "       'unacc', 'unacc', 'unacc', 'unacc', 'unacc', 'unacc', 'unacc',\n",
              "       'unacc', 'unacc', 'unacc', 'unacc', 'unacc', 'unacc', 'unacc',\n",
              "       'unacc', 'unacc', 'unacc', 'vgood', 'vgood', 'vgood', 'vgood',\n",
              "       'vgood', 'vgood', 'vgood', 'vgood', 'vgood', 'vgood', 'vgood',\n",
              "       'vgood', 'vgood', 'vgood', 'vgood', 'vgood', 'vgood', 'vgood',\n",
              "       'vgood', 'vgood', 'vgood', 'vgood', 'vgood', 'vgood', 'vgood',\n",
              "       'vgood', 'vgood', 'vgood', 'vgood', 'vgood', 'vgood', 'vgood',\n",
              "       'vgood', 'vgood', 'vgood', 'vgood', 'vgood', 'vgood', 'vgood',\n",
              "       'vgood', 'vgood', 'vgood', 'vgood', 'vgood', 'vgood', 'vgood',\n",
              "       'vgood', 'vgood'], dtype=object)"
            ]
          },
          "metadata": {},
          "execution_count": 482
        }
      ]
    },
    {
      "cell_type": "code",
      "source": [
        "print('Training-set accuracy score: {0:0.4f}'. format(accuracy_score(y_train_under, y_pred_train_en)))"
      ],
      "metadata": {
        "colab": {
          "base_uri": "https://localhost:8080/"
        },
        "id": "NTVcJ0Tw01sh",
        "outputId": "f8da0a85-331a-40d8-f828-1923c6f072ad"
      },
      "execution_count": 483,
      "outputs": [
        {
          "output_type": "stream",
          "name": "stdout",
          "text": [
            "Training-set accuracy score: 1.0000\n"
          ]
        }
      ]
    },
    {
      "cell_type": "markdown",
      "source": [
        "**Check for overfitting and underfitting**"
      ],
      "metadata": {
        "id": "b7H2pz4t0-s4"
      }
    },
    {
      "cell_type": "code",
      "source": [
        "# print the scores on training and test set\n",
        "\n",
        "print('Training set score: {:.4f}'.format(clf_en.score(X_train_under, y_train_under)))\n",
        "\n",
        "print('Test set score: {:.4f}'.format(clf_en.score(X_test, y_test)))"
      ],
      "metadata": {
        "colab": {
          "base_uri": "https://localhost:8080/"
        },
        "id": "fFwkHFYK07Ia",
        "outputId": "63b61ef8-de2f-41b0-83e5-d4c7c18ccb39"
      },
      "execution_count": 484,
      "outputs": [
        {
          "output_type": "stream",
          "name": "stdout",
          "text": [
            "Training set score: 1.0000\n",
            "Test set score: 0.9220\n"
          ]
        }
      ]
    },
    {
      "cell_type": "markdown",
      "source": [
        "Here, the training-set accuracy score is 1.0000 while the test-set accuracy to be 0.9220. The model is overfitting, train > test, 100% > 92.2%\n"
      ],
      "metadata": {
        "id": "IM2pr0L-1JYr"
      }
    },
    {
      "cell_type": "markdown",
      "source": [
        "### 6.4. Modelling Decision Tree Classifier with criterion entropy and feature selection"
      ],
      "metadata": {
        "id": "9MlTx4nL00X3"
      }
    },
    {
      "cell_type": "code",
      "source": [
        "# view the feature scores\n",
        "\n",
        "feature_scores = pd.Series(clf_en.feature_importances_, index=X_train_under.columns).sort_values(ascending=False)\n",
        "\n",
        "feature_scores"
      ],
      "metadata": {
        "colab": {
          "base_uri": "https://localhost:8080/"
        },
        "id": "4DaI2y2_06ZL",
        "outputId": "b3dc5020-963a-4988-e533-79bd6fbdab4c"
      },
      "execution_count": 485,
      "outputs": [
        {
          "output_type": "execute_result",
          "data": {
            "text/plain": [
              "safety      0.241684\n",
              "buying      0.231915\n",
              "maint       0.225680\n",
              "lug_boot    0.158431\n",
              "persons     0.087370\n",
              "doors       0.054920\n",
              "dtype: float64"
            ]
          },
          "metadata": {},
          "execution_count": 485
        }
      ]
    },
    {
      "cell_type": "code",
      "source": [
        "# Creating a seaborn bar plot\n",
        "\n",
        "sns.barplot(x=feature_scores, y=feature_scores.index)\n",
        "\n",
        "\n",
        "\n",
        "# Add labels to the graph\n",
        "\n",
        "plt.xlabel('Feature Importance Score')\n",
        "\n",
        "plt.ylabel('Features')\n",
        "\n",
        "\n",
        "\n",
        "# Add title to the graph\n",
        "\n",
        "plt.title(\"Visualizing Important Features\")\n",
        "\n",
        "\n",
        "\n",
        "# Visualize the graph\n",
        "\n",
        "plt.show()"
      ],
      "metadata": {
        "colab": {
          "base_uri": "https://localhost:8080/",
          "height": 295
        },
        "id": "fPwsILB01CQ8",
        "outputId": "d1d20369-8908-46a7-a539-7259b1db3e05"
      },
      "execution_count": 486,
      "outputs": [
        {
          "output_type": "display_data",
          "data": {
            "text/plain": [
              "<Figure size 432x288 with 1 Axes>"
            ],
            "image/png": "[encoded data removed]"
          },
          "metadata": {
            "needs_background": "light"
          }
        }
      ]
    },
    {
      "cell_type": "markdown",
      "source": [
        "Berdasarkan feature importance, feature `doors` memiliki nilai terendah, yakni 0.054. Kita dapat drop feature dan build model kembali.\n",
        "\n",
        "\n",
        "\n"
      ],
      "metadata": {
        "id": "SLHDjOe83-7N"
      }
    },
    {
      "cell_type": "code",
      "source": [
        "# drop feature doors\n",
        "X_train_under_drop2 = X_train_under.drop(['doors'], axis=1)\n",
        "X_test_drop2 = X_test.drop(['doors'], axis=1)"
      ],
      "metadata": {
        "id": "hHa-EQGf4Knc"
      },
      "execution_count": 487,
      "outputs": []
    },
    {
      "cell_type": "code",
      "source": [
        "X_train_under_drop2.info()"
      ],
      "metadata": {
        "colab": {
          "base_uri": "https://localhost:8080/"
        },
        "id": "-P381nF34Xo3",
        "outputId": "ea9e9391-86d5-4b99-ed14-58005ad818d0"
      },
      "execution_count": 488,
      "outputs": [
        {
          "output_type": "stream",
          "name": "stdout",
          "text": [
            "<class 'pandas.core.frame.DataFrame'>\n",
            "RangeIndex: 455 entries, 0 to 454\n",
            "Data columns (total 5 columns):\n",
            " #   Column    Non-Null Count  Dtype\n",
            "---  ------    --------------  -----\n",
            " 0   buying    455 non-null    int64\n",
            " 1   maint     455 non-null    int64\n",
            " 2   persons   455 non-null    int64\n",
            " 3   lug_boot  455 non-null    int64\n",
            " 4   safety    455 non-null    int64\n",
            "dtypes: int64(5)\n",
            "memory usage: 17.9 KB\n"
          ]
        }
      ]
    },
    {
      "cell_type": "code",
      "source": [
        "X_test_drop2.info()"
      ],
      "metadata": {
        "colab": {
          "base_uri": "https://localhost:8080/"
        },
        "id": "LOy3wB_G4aMD",
        "outputId": "3e09f5a2-620b-4dc2-be7d-2e52976ee4c9"
      },
      "execution_count": 489,
      "outputs": [
        {
          "output_type": "stream",
          "name": "stdout",
          "text": [
            "<class 'pandas.core.frame.DataFrame'>\n",
            "Int64Index: 346 entries, 599 to 1084\n",
            "Data columns (total 5 columns):\n",
            " #   Column    Non-Null Count  Dtype\n",
            "---  ------    --------------  -----\n",
            " 0   buying    346 non-null    int64\n",
            " 1   maint     346 non-null    int64\n",
            " 2   persons   346 non-null    int64\n",
            " 3   lug_boot  346 non-null    int64\n",
            " 4   safety    346 non-null    int64\n",
            "dtypes: int64(5)\n",
            "memory usage: 16.2 KB\n"
          ]
        }
      ]
    },
    {
      "cell_type": "code",
      "source": [
        "# instantiate the DecisionTreeClassifier model with criterion entropy index\n",
        "clf_entropy_feature_importance = DecisionTreeClassifier(criterion='entropy', random_state=21)\n",
        "\n",
        "# fit the model\n",
        "clf_entropy_feature_importance.fit(X_train_under_drop2, y_train_under)\n",
        "\n",
        "# predict test set\n",
        "y_pred_feature_en = clf_entropy_feature_importance.predict(X_test_drop2)\n",
        "\n",
        "# check accuracy\n",
        "from sklearn.metrics import accuracy_score\n",
        "\n",
        "print('Model accuracy score with criterion entropy index: {0:0.4f}'. format(accuracy_score(y_test, y_pred_feature_en)))\n",
        "\n",
        "# compare\n",
        "y_pred_train_en = clf_entropy_feature_importance.predict(X_train_under_drop2)\n",
        "\n",
        "print('Training-set accuracy score: {0:0.4f}'. format(accuracy_score(y_train_under, y_pred_train_en)))\n",
        "\n",
        "# check overfitting & underfitting\n",
        "# print the scores on training and test set\n",
        "\n",
        "print('Training set score: {:.4f}'.format(clf_entropy_feature_importance.score(X_train_under_drop2, y_train_under)))\n",
        "\n",
        "print('Test set score: {:.4f}'.format(clf_entropy_feature_importance.score(X_test_drop2, y_test)))\n"
      ],
      "metadata": {
        "colab": {
          "base_uri": "https://localhost:8080/"
        },
        "id": "I2QpzN6p4dau",
        "outputId": "49270f64-2bb9-4b9e-a0c1-05acb81ccc54"
      },
      "execution_count": 490,
      "outputs": [
        {
          "output_type": "stream",
          "name": "stdout",
          "text": [
            "Model accuracy score with criterion entropy index: 0.9162\n",
            "Training-set accuracy score: 0.9714\n",
            "Training set score: 0.9714\n",
            "Test set score: 0.9162\n"
          ]
        }
      ]
    },
    {
      "cell_type": "markdown",
      "source": [
        "We can see that the score obtained is the same as the model score of decision tree classifier with criterion gini index and feature selection. The training-set accuracy score is 0.9714 while the test-set accuracy to be 0.9162. The model is overfitting, train > test, 100% > 92.2%\n",
        "\n"
      ],
      "metadata": {
        "id": "RZWTlyx95czv"
      }
    },
    {
      "cell_type": "markdown",
      "source": [
        "### 6.5. Tune Hyperparameter with GridSearchCV for the DecisionTreeClassifier model"
      ],
      "metadata": {
        "id": "EdyqTUudcz5q"
      }
    },
    {
      "cell_type": "code",
      "source": [
        "# Creating a dictionary of parameters to use in GridSearchCV\n",
        "from sklearn.model_selection import GridSearchCV\n",
        "\n",
        "params = {\n",
        "    'criterion':  ['gini', 'entropy'],\n",
        "    'max_depth':  [None, 2, 4, 6, 8, 10],\n",
        "    'max_features': [None, 'sqrt', 'log2', 0.2, 0.4, 0.6, 0.8],\n",
        "    'splitter': ['best', 'random']\n",
        "}\n",
        "\n",
        "clf_tune = GridSearchCV(\n",
        "    estimator=DecisionTreeClassifier(),\n",
        "    param_grid=params,\n",
        "    cv=5,\n",
        "    n_jobs=5,\n",
        "    verbose=1,\n",
        ")\n",
        "\n",
        "clf_tune.fit(X_train_under, y_train_under)\n",
        "print(clf_tune.best_params_)"
      ],
      "metadata": {
        "colab": {
          "base_uri": "https://localhost:8080/"
        },
        "id": "dSSneYtgc-aI",
        "outputId": "d20636aa-abf4-4c58-9f87-55218a89b94f"
      },
      "execution_count": 491,
      "outputs": [
        {
          "output_type": "stream",
          "name": "stdout",
          "text": [
            "Fitting 5 folds for each of 168 candidates, totalling 840 fits\n",
            "{'criterion': 'gini', 'max_depth': 10, 'max_features': None, 'splitter': 'best'}\n"
          ]
        }
      ]
    },
    {
      "cell_type": "code",
      "source": [
        "clf_tune_best = DecisionTreeClassifier(criterion='gini', max_depth=10, max_features=None, splitter='best', random_state=21)\n",
        "\n",
        "# fit the model\n",
        "clf_tune_best.fit(X_train_under, y_train_under)"
      ],
      "metadata": {
        "colab": {
          "base_uri": "https://localhost:8080/"
        },
        "id": "sps7vTAjdR1i",
        "outputId": "996e75c2-68b2-4986-f0e9-bc1ceb485618"
      },
      "execution_count": 492,
      "outputs": [
        {
          "output_type": "execute_result",
          "data": {
            "text/plain": [
              "DecisionTreeClassifier(max_depth=10, random_state=21)"
            ]
          },
          "metadata": {},
          "execution_count": 492
        }
      ]
    },
    {
      "cell_type": "code",
      "source": [
        "y_pred_tune = clf_tune_best.predict(X_test)"
      ],
      "metadata": {
        "id": "uCqYzIJCdtWr"
      },
      "execution_count": 493,
      "outputs": []
    },
    {
      "cell_type": "code",
      "source": [
        "from sklearn.metrics import accuracy_score\n",
        "\n",
        "print('Model accuracy score with GridSearchCV: {0:0.4f}'. format(accuracy_score(y_test, y_pred_tune)))"
      ],
      "metadata": {
        "colab": {
          "base_uri": "https://localhost:8080/"
        },
        "id": "fXylFQxwd1ne",
        "outputId": "9a4f43b8-10a1-42f9-b8e3-59951d85a2b2"
      },
      "execution_count": 494,
      "outputs": [
        {
          "output_type": "stream",
          "name": "stdout",
          "text": [
            "Model accuracy score with GridSearchCV: 0.9393\n"
          ]
        }
      ]
    },
    {
      "cell_type": "code",
      "source": [
        "y_pred_train_tune = clf_tune_best.predict(X_train_under)\n",
        "\n",
        "y_pred_train_tune"
      ],
      "metadata": {
        "colab": {
          "base_uri": "https://localhost:8080/"
        },
        "id": "CpdVLbujd9FN",
        "outputId": "1480d3dc-cb2a-440b-f234-65abaf117668"
      },
      "execution_count": 495,
      "outputs": [
        {
          "output_type": "execute_result",
          "data": {
            "text/plain": [
              "array(['acc', 'acc', 'acc', 'acc', 'acc', 'acc', 'acc', 'acc', 'acc',\n",
              "       'acc', 'acc', 'acc', 'acc', 'acc', 'acc', 'acc', 'acc', 'acc',\n",
              "       'acc', 'acc', 'acc', 'acc', 'acc', 'acc', 'acc', 'acc', 'acc',\n",
              "       'acc', 'acc', 'acc', 'acc', 'acc', 'acc', 'acc', 'acc', 'acc',\n",
              "       'acc', 'acc', 'acc', 'acc', 'acc', 'acc', 'acc', 'acc', 'acc',\n",
              "       'acc', 'acc', 'acc', 'acc', 'acc', 'acc', 'acc', 'acc', 'acc',\n",
              "       'acc', 'acc', 'acc', 'acc', 'acc', 'acc', 'acc', 'acc', 'acc',\n",
              "       'acc', 'acc', 'acc', 'acc', 'acc', 'acc', 'acc', 'acc', 'acc',\n",
              "       'acc', 'acc', 'acc', 'acc', 'acc', 'acc', 'acc', 'acc', 'acc',\n",
              "       'acc', 'acc', 'acc', 'acc', 'acc', 'acc', 'acc', 'acc', 'acc',\n",
              "       'acc', 'acc', 'acc', 'acc', 'acc', 'acc', 'acc', 'acc', 'acc',\n",
              "       'acc', 'acc', 'acc', 'acc', 'acc', 'acc', 'acc', 'acc', 'acc',\n",
              "       'acc', 'acc', 'acc', 'acc', 'acc', 'acc', 'acc', 'acc', 'acc',\n",
              "       'acc', 'acc', 'acc', 'acc', 'acc', 'acc', 'acc', 'acc', 'acc',\n",
              "       'acc', 'acc', 'acc', 'acc', 'acc', 'acc', 'acc', 'acc', 'acc',\n",
              "       'acc', 'acc', 'acc', 'acc', 'acc', 'acc', 'acc', 'acc', 'acc',\n",
              "       'acc', 'acc', 'acc', 'acc', 'acc', 'acc', 'acc', 'acc', 'acc',\n",
              "       'acc', 'acc', 'acc', 'acc', 'acc', 'acc', 'acc', 'acc', 'acc',\n",
              "       'acc', 'acc', 'acc', 'acc', 'acc', 'acc', 'acc', 'acc', 'acc',\n",
              "       'acc', 'acc', 'acc', 'acc', 'acc', 'acc', 'acc', 'acc', 'acc',\n",
              "       'acc', 'acc', 'acc', 'acc', 'acc', 'acc', 'acc', 'acc', 'acc',\n",
              "       'acc', 'acc', 'acc', 'acc', 'acc', 'acc', 'acc', 'acc', 'acc',\n",
              "       'acc', 'acc', 'acc', 'acc', 'acc', 'acc', 'acc', 'acc', 'acc',\n",
              "       'acc', 'acc', 'acc', 'acc', 'acc', 'acc', 'acc', 'acc', 'acc',\n",
              "       'acc', 'acc', 'acc', 'acc', 'acc', 'acc', 'acc', 'acc', 'acc',\n",
              "       'acc', 'acc', 'acc', 'acc', 'acc', 'acc', 'acc', 'acc', 'acc',\n",
              "       'acc', 'acc', 'acc', 'acc', 'acc', 'acc', 'acc', 'acc', 'acc',\n",
              "       'acc', 'acc', 'acc', 'acc', 'acc', 'acc', 'acc', 'acc', 'acc',\n",
              "       'acc', 'acc', 'acc', 'acc', 'acc', 'acc', 'acc', 'acc', 'acc',\n",
              "       'acc', 'acc', 'acc', 'acc', 'acc', 'acc', 'acc', 'acc', 'acc',\n",
              "       'acc', 'acc', 'acc', 'acc', 'acc', 'acc', 'acc', 'acc', 'acc',\n",
              "       'acc', 'acc', 'acc', 'acc', 'acc', 'acc', 'acc', 'acc', 'acc',\n",
              "       'acc', 'acc', 'acc', 'acc', 'acc', 'acc', 'acc', 'acc', 'acc',\n",
              "       'acc', 'acc', 'acc', 'acc', 'good', 'acc', 'good', 'good', 'good',\n",
              "       'good', 'good', 'good', 'good', 'good', 'good', 'good', 'good',\n",
              "       'good', 'good', 'good', 'good', 'good', 'good', 'good', 'good',\n",
              "       'good', 'good', 'good', 'good', 'good', 'good', 'good', 'good',\n",
              "       'good', 'good', 'good', 'good', 'good', 'good', 'good', 'good',\n",
              "       'good', 'good', 'good', 'acc', 'good', 'vgood', 'good', 'good',\n",
              "       'acc', 'good', 'good', 'good', 'good', 'good', 'acc', 'good',\n",
              "       'good', 'good', 'good', 'good', 'good', 'unacc', 'unacc', 'unacc',\n",
              "       'unacc', 'unacc', 'unacc', 'acc', 'unacc', 'unacc', 'unacc',\n",
              "       'unacc', 'unacc', 'unacc', 'unacc', 'unacc', 'unacc', 'unacc',\n",
              "       'unacc', 'unacc', 'unacc', 'unacc', 'unacc', 'unacc', 'unacc',\n",
              "       'unacc', 'unacc', 'unacc', 'unacc', 'unacc', 'unacc', 'unacc',\n",
              "       'unacc', 'unacc', 'unacc', 'unacc', 'unacc', 'unacc', 'unacc',\n",
              "       'unacc', 'unacc', 'unacc', 'unacc', 'unacc', 'unacc', 'unacc',\n",
              "       'unacc', 'unacc', 'unacc', 'vgood', 'vgood', 'vgood', 'acc',\n",
              "       'vgood', 'good', 'vgood', 'vgood', 'vgood', 'vgood', 'vgood',\n",
              "       'vgood', 'vgood', 'vgood', 'vgood', 'vgood', 'vgood', 'vgood',\n",
              "       'vgood', 'vgood', 'vgood', 'vgood', 'vgood', 'vgood', 'vgood',\n",
              "       'vgood', 'vgood', 'good', 'vgood', 'vgood', 'acc', 'vgood',\n",
              "       'vgood', 'vgood', 'vgood', 'vgood', 'vgood', 'vgood', 'vgood',\n",
              "       'vgood', 'vgood', 'vgood', 'vgood', 'acc', 'acc', 'acc', 'vgood',\n",
              "       'acc'], dtype=object)"
            ]
          },
          "metadata": {},
          "execution_count": 495
        }
      ]
    },
    {
      "cell_type": "code",
      "source": [
        "print('Training-set accuracy score: {0:0.4f}'. format(accuracy_score(y_train_under, y_pred_train_tune)))"
      ],
      "metadata": {
        "colab": {
          "base_uri": "https://localhost:8080/"
        },
        "id": "45A-EakPeMkk",
        "outputId": "3cf1129d-5562-4740-b300-427963c7eb81"
      },
      "execution_count": 496,
      "outputs": [
        {
          "output_type": "stream",
          "name": "stdout",
          "text": [
            "Training-set accuracy score: 0.9692\n"
          ]
        }
      ]
    },
    {
      "cell_type": "code",
      "source": [
        "# print the scores on training and test set\n",
        "\n",
        "print('Training set score: {:.4f}'.format(clf_tune_best.score(X_train_under, y_train_under)))\n",
        "\n",
        "print('Test set score: {:.4f}'.format(clf_tune_best.score(X_test, y_test)))"
      ],
      "metadata": {
        "colab": {
          "base_uri": "https://localhost:8080/"
        },
        "id": "aPKYIDXKeW7b",
        "outputId": "e330a6cb-0e92-4dcc-d28b-355de9fb72e1"
      },
      "execution_count": 497,
      "outputs": [
        {
          "output_type": "stream",
          "name": "stdout",
          "text": [
            "Training set score: 0.9692\n",
            "Test set score: 0.9393\n"
          ]
        }
      ]
    },
    {
      "cell_type": "markdown",
      "source": [
        "We can see that the score obtained is the same as the model score of decision tree classifier with criterion (gini or entropy) and feature selection. The training-set accuracy score is 0.9692 while the test-set accuracy to be 0.9393. These two values are quite comparable (1-4%). So, there is no sign of overfitting. "
      ],
      "metadata": {
        "id": "HvQWAcVe0ILL"
      }
    },
    {
      "cell_type": "markdown",
      "source": [
        "### 6.6. Tune Hyperparameter with GridSearchCV and feature selection for the DecisionTreeClassifier model"
      ],
      "metadata": {
        "id": "dE9EwCO1662X"
      }
    },
    {
      "cell_type": "code",
      "source": [
        "# view the feature scores\n",
        "\n",
        "feature_scores = pd.Series(clf_tune_best.feature_importances_, index=X_train_under.columns).sort_values(ascending=False)\n",
        "\n",
        "feature_scores"
      ],
      "metadata": {
        "colab": {
          "base_uri": "https://localhost:8080/"
        },
        "id": "mQBxcPgr7FRp",
        "outputId": "10831fd8-6476-4812-c7a8-85e933eb41d1"
      },
      "execution_count": 498,
      "outputs": [
        {
          "output_type": "execute_result",
          "data": {
            "text/plain": [
              "safety      0.272326\n",
              "maint       0.230926\n",
              "buying      0.207540\n",
              "lug_boot    0.187232\n",
              "persons     0.074855\n",
              "doors       0.027121\n",
              "dtype: float64"
            ]
          },
          "metadata": {},
          "execution_count": 498
        }
      ]
    },
    {
      "cell_type": "code",
      "source": [
        "# Creating a seaborn bar plot\n",
        "\n",
        "sns.barplot(x=feature_scores, y=feature_scores.index)\n",
        "\n",
        "\n",
        "\n",
        "# Add labels to the graph\n",
        "\n",
        "plt.xlabel('Feature Importance Score')\n",
        "\n",
        "plt.ylabel('Features')\n",
        "\n",
        "\n",
        "\n",
        "# Add title to the graph\n",
        "\n",
        "plt.title(\"Visualizing Important Features\")\n",
        "\n",
        "\n",
        "\n",
        "# Visualize the graph\n",
        "\n",
        "plt.show()"
      ],
      "metadata": {
        "colab": {
          "base_uri": "https://localhost:8080/",
          "height": 295
        },
        "id": "xpQpdtdZ7M5A",
        "outputId": "d850d556-4ec2-46d2-b709-c7cb06b36c6c"
      },
      "execution_count": 499,
      "outputs": [
        {
          "output_type": "display_data",
          "data": {
            "text/plain": [
              "<Figure size 432x288 with 1 Axes>"
            ],
            "image/png": "[encoded data removed]"
          },
          "metadata": {
            "needs_background": "light"
          }
        }
      ]
    },
    {
      "cell_type": "markdown",
      "source": [
        "Berdasarkan feature importance, feature `doors` memiliki nilai terendah, yakni 0.027. Kita dapat drop feature dan build model kembali.\n",
        "\n",
        "\n",
        "\n"
      ],
      "metadata": {
        "id": "nJF_kSHb7RHh"
      }
    },
    {
      "cell_type": "code",
      "source": [
        "# drop feature doors\n",
        "X_train_under_drop3 = X_train_under.drop(['doors'], axis=1)\n",
        "X_test_drop3 = X_test.drop(['doors'], axis=1)"
      ],
      "metadata": {
        "id": "iqrc1pHx7UH6"
      },
      "execution_count": 500,
      "outputs": []
    },
    {
      "cell_type": "code",
      "source": [
        "# instantiate the DecisionTreeClassifier model with gridsearchcv\n",
        "clf_tune_best_feature_importance = DecisionTreeClassifier(criterion='gini', max_depth=10, max_features=None, splitter='best', random_state=21)\n",
        "\n",
        "# fit the model\n",
        "clf_tune_best_feature_importance.fit(X_train_under_drop3, y_train_under)\n",
        "\n",
        "# predict test set\n",
        "y_pred_tune_feature = clf_tune_best_feature_importance.predict(X_test_drop3)\n",
        "\n",
        "# check accuracy\n",
        "from sklearn.metrics import accuracy_score\n",
        "\n",
        "print('Model accuracy score with gridsearchcv and feature selection index: {0:0.4f}'. format(accuracy_score(y_test, y_pred_tune_feature)))\n",
        "\n",
        "# compare\n",
        "y_pred_train_tune = clf_tune_best_feature_importance.predict(X_train_under_drop3)\n",
        "\n",
        "print('Training-set accuracy score: {0:0.4f}'. format(accuracy_score(y_train_under, y_pred_train_tune)))\n",
        "\n",
        "# check overfitting & underfitting\n",
        "# print the scores on training and test set\n",
        "\n",
        "print('Training set score: {:.4f}'.format(clf_tune_best_feature_importance.score(X_train_under_drop3, y_train_under)))\n",
        "\n",
        "print('Test set score: {:.4f}'.format(clf_tune_best_feature_importance.score(X_test_drop3, y_test)))\n"
      ],
      "metadata": {
        "colab": {
          "base_uri": "https://localhost:8080/"
        },
        "id": "aOdL4O2p7akC",
        "outputId": "01ea8fa6-c8a6-4423-9e0a-4b8297ed0c24"
      },
      "execution_count": 501,
      "outputs": [
        {
          "output_type": "stream",
          "name": "stdout",
          "text": [
            "Model accuracy score with gridsearchcv and feature selection index: 0.9364\n",
            "Training-set accuracy score: 0.9582\n",
            "Training set score: 0.9582\n",
            "Test set score: 0.9364\n"
          ]
        }
      ]
    },
    {
      "cell_type": "markdown",
      "source": [
        "Here, the training-set accuracy score is 0.9582 while the test-set accuracy to be 0.9364. These two values are quite comparable (1-4%). So, there is no sign of overfitting. \n"
      ],
      "metadata": {
        "id": "meTDeqONk7WF"
      }
    },
    {
      "cell_type": "markdown",
      "source": [
        "### 6.7. Modelling Random Forest"
      ],
      "metadata": {
        "id": "FDKCaiBe2DUb"
      }
    },
    {
      "cell_type": "code",
      "source": [
        "# import RandomForestClassifier\n",
        "from sklearn.ensemble import RandomForestClassifier"
      ],
      "metadata": {
        "id": "PtV4CmfD4UHB"
      },
      "execution_count": 502,
      "outputs": []
    },
    {
      "cell_type": "code",
      "source": [
        "# instantiate the Random Forest model\n",
        "clf_rf = RandomForestClassifier(max_depth = 7,random_state = 48)\n",
        "\n",
        "# fit the model\n",
        "clf_rf.fit(X_train_under, y_train_under)"
      ],
      "metadata": {
        "colab": {
          "base_uri": "https://localhost:8080/"
        },
        "id": "w8RC18uS1AH_",
        "outputId": "8e71b67c-4644-4d70-ffe0-6b86110f8800"
      },
      "execution_count": 503,
      "outputs": [
        {
          "output_type": "execute_result",
          "data": {
            "text/plain": [
              "RandomForestClassifier(max_depth=7, random_state=48)"
            ]
          },
          "metadata": {},
          "execution_count": 503
        }
      ]
    },
    {
      "cell_type": "markdown",
      "source": [
        "**Predict the Test set results**"
      ],
      "metadata": {
        "id": "RqZ5cqh54ufX"
      }
    },
    {
      "cell_type": "code",
      "source": [
        "y_pred_rf = clf_rf.predict(X_test)"
      ],
      "metadata": {
        "id": "O1mCSsMB4qeD"
      },
      "execution_count": 504,
      "outputs": []
    },
    {
      "cell_type": "markdown",
      "source": [
        "**Check accuracy score**"
      ],
      "metadata": {
        "id": "dW3OX6PR43jq"
      }
    },
    {
      "cell_type": "code",
      "source": [
        "from sklearn.metrics import accuracy_score\n",
        "\n",
        "print('Model accuracy score with Random Forest: {0:0.4f}'. format(accuracy_score(y_test, y_pred_rf)))"
      ],
      "metadata": {
        "colab": {
          "base_uri": "https://localhost:8080/"
        },
        "id": "9iNVZMkE4zT1",
        "outputId": "a1bd93fd-ae91-4745-f93b-d5c3e15835e8"
      },
      "execution_count": 505,
      "outputs": [
        {
          "output_type": "stream",
          "name": "stdout",
          "text": [
            "Model accuracy score with Random Forest: 0.8237\n"
          ]
        }
      ]
    },
    {
      "cell_type": "markdown",
      "source": [
        "**Compare the train-set and test-set accuracy**\n",
        "\n",
        "Now, I will compare the train-set and test-set accuracy to check for overfitting."
      ],
      "metadata": {
        "id": "Ye5IOHa05D40"
      }
    },
    {
      "cell_type": "code",
      "source": [
        "y_pred_train_rf = clf_rf.predict(X_train_under)\n",
        "\n",
        "y_pred_train_rf"
      ],
      "metadata": {
        "colab": {
          "base_uri": "https://localhost:8080/"
        },
        "id": "y27P6Ns94_GC",
        "outputId": "46edfbfb-d326-41bf-a5fa-4c4f3a5d95bb"
      },
      "execution_count": 506,
      "outputs": [
        {
          "output_type": "execute_result",
          "data": {
            "text/plain": [
              "array(['acc', 'acc', 'acc', 'acc', 'acc', 'acc', 'acc', 'acc', 'acc',\n",
              "       'acc', 'acc', 'acc', 'acc', 'acc', 'acc', 'acc', 'acc', 'acc',\n",
              "       'acc', 'acc', 'acc', 'acc', 'acc', 'acc', 'acc', 'acc', 'acc',\n",
              "       'acc', 'acc', 'acc', 'acc', 'acc', 'acc', 'acc', 'acc', 'acc',\n",
              "       'acc', 'acc', 'acc', 'acc', 'acc', 'acc', 'acc', 'acc', 'acc',\n",
              "       'acc', 'acc', 'acc', 'acc', 'acc', 'acc', 'acc', 'acc', 'acc',\n",
              "       'acc', 'acc', 'acc', 'acc', 'acc', 'acc', 'acc', 'acc', 'acc',\n",
              "       'acc', 'acc', 'acc', 'acc', 'acc', 'acc', 'acc', 'acc', 'acc',\n",
              "       'acc', 'acc', 'acc', 'acc', 'acc', 'acc', 'acc', 'acc', 'acc',\n",
              "       'acc', 'acc', 'acc', 'acc', 'acc', 'acc', 'acc', 'acc', 'acc',\n",
              "       'acc', 'acc', 'acc', 'acc', 'acc', 'acc', 'acc', 'acc', 'acc',\n",
              "       'acc', 'acc', 'acc', 'acc', 'acc', 'acc', 'acc', 'acc', 'acc',\n",
              "       'acc', 'acc', 'acc', 'acc', 'acc', 'acc', 'acc', 'acc', 'acc',\n",
              "       'acc', 'acc', 'acc', 'acc', 'acc', 'acc', 'acc', 'acc', 'acc',\n",
              "       'acc', 'acc', 'acc', 'acc', 'acc', 'acc', 'acc', 'acc', 'acc',\n",
              "       'acc', 'acc', 'acc', 'acc', 'acc', 'acc', 'acc', 'acc', 'acc',\n",
              "       'acc', 'acc', 'acc', 'acc', 'acc', 'acc', 'acc', 'acc', 'acc',\n",
              "       'acc', 'acc', 'acc', 'acc', 'acc', 'acc', 'acc', 'acc', 'acc',\n",
              "       'acc', 'acc', 'acc', 'acc', 'acc', 'acc', 'acc', 'acc', 'acc',\n",
              "       'acc', 'acc', 'acc', 'acc', 'acc', 'acc', 'acc', 'acc', 'acc',\n",
              "       'acc', 'acc', 'acc', 'acc', 'acc', 'acc', 'acc', 'acc', 'acc',\n",
              "       'acc', 'acc', 'acc', 'acc', 'acc', 'acc', 'acc', 'acc', 'acc',\n",
              "       'acc', 'acc', 'acc', 'acc', 'acc', 'acc', 'acc', 'acc', 'acc',\n",
              "       'acc', 'acc', 'acc', 'acc', 'acc', 'acc', 'acc', 'acc', 'acc',\n",
              "       'acc', 'acc', 'acc', 'acc', 'acc', 'acc', 'acc', 'acc', 'acc',\n",
              "       'acc', 'acc', 'acc', 'acc', 'acc', 'acc', 'acc', 'acc', 'acc',\n",
              "       'acc', 'acc', 'acc', 'acc', 'acc', 'acc', 'acc', 'acc', 'acc',\n",
              "       'acc', 'acc', 'acc', 'acc', 'acc', 'acc', 'acc', 'acc', 'acc',\n",
              "       'acc', 'acc', 'acc', 'acc', 'acc', 'acc', 'acc', 'acc', 'acc',\n",
              "       'acc', 'acc', 'acc', 'acc', 'acc', 'acc', 'acc', 'acc', 'acc',\n",
              "       'acc', 'acc', 'acc', 'acc', 'acc', 'acc', 'acc', 'acc', 'acc',\n",
              "       'acc', 'acc', 'acc', 'acc', 'acc', 'acc', 'acc', 'acc', 'acc',\n",
              "       'acc', 'acc', 'acc', 'acc', 'acc', 'acc', 'acc', 'acc', 'acc',\n",
              "       'acc', 'acc', 'acc', 'acc', 'acc', 'acc', 'acc', 'acc', 'acc',\n",
              "       'acc', 'acc', 'acc', 'acc', 'good', 'good', 'good', 'acc', 'good',\n",
              "       'good', 'good', 'acc', 'acc', 'acc', 'good', 'acc', 'acc', 'acc',\n",
              "       'acc', 'good', 'acc', 'good', 'good', 'acc', 'acc', 'acc', 'acc',\n",
              "       'acc', 'acc', 'good', 'acc', 'acc', 'acc', 'acc', 'acc', 'acc',\n",
              "       'good', 'good', 'acc', 'acc', 'acc', 'acc', 'acc', 'good', 'acc',\n",
              "       'acc', 'acc', 'good', 'acc', 'good', 'good', 'acc', 'acc', 'unacc',\n",
              "       'unacc', 'acc', 'unacc', 'unacc', 'unacc', 'acc', 'unacc', 'unacc',\n",
              "       'unacc', 'unacc', 'unacc', 'unacc', 'unacc', 'unacc', 'unacc',\n",
              "       'unacc', 'unacc', 'unacc', 'unacc', 'acc', 'unacc', 'unacc',\n",
              "       'unacc', 'unacc', 'unacc', 'unacc', 'unacc', 'unacc', 'unacc',\n",
              "       'acc', 'acc', 'unacc', 'unacc', 'unacc', 'unacc', 'unacc', 'unacc',\n",
              "       'unacc', 'unacc', 'unacc', 'unacc', 'unacc', 'unacc', 'unacc',\n",
              "       'unacc', 'unacc', 'unacc', 'acc', 'vgood', 'vgood', 'acc', 'vgood',\n",
              "       'acc', 'vgood', 'vgood', 'vgood', 'vgood', 'vgood', 'acc', 'good',\n",
              "       'vgood', 'vgood', 'vgood', 'vgood', 'good', 'acc', 'acc', 'acc',\n",
              "       'vgood', 'vgood', 'vgood', 'vgood', 'vgood', 'vgood', 'acc',\n",
              "       'vgood', 'vgood', 'acc', 'good', 'vgood', 'vgood', 'vgood',\n",
              "       'vgood', 'vgood', 'acc', 'vgood', 'vgood', 'vgood', 'vgood',\n",
              "       'good', 'acc', 'acc', 'acc', 'acc', 'acc'], dtype=object)"
            ]
          },
          "metadata": {},
          "execution_count": 506
        }
      ]
    },
    {
      "cell_type": "code",
      "source": [
        "print('Training-set accuracy score: {0:0.4f}'. format(accuracy_score(y_train_under, y_pred_train_rf)))"
      ],
      "metadata": {
        "colab": {
          "base_uri": "https://localhost:8080/"
        },
        "id": "YbhAO2OP5LkD",
        "outputId": "c2087bc2-27d1-499d-d081-76046872c127"
      },
      "execution_count": 507,
      "outputs": [
        {
          "output_type": "stream",
          "name": "stdout",
          "text": [
            "Training-set accuracy score: 0.8571\n"
          ]
        }
      ]
    },
    {
      "cell_type": "markdown",
      "source": [
        "**Check for overfitting and underfitting**"
      ],
      "metadata": {
        "id": "b7mYzOWr5S1G"
      }
    },
    {
      "cell_type": "code",
      "source": [
        "# print the scores on training and test set\n",
        "\n",
        "print('Training set score: {:.4f}'.format(clf_rf.score(X_train_under, y_train_under)))\n",
        "\n",
        "print('Test set score: {:.4f}'.format(clf_rf.score(X_test, y_test)))"
      ],
      "metadata": {
        "colab": {
          "base_uri": "https://localhost:8080/"
        },
        "id": "Sw0ylJwE5PyX",
        "outputId": "f26c4ffb-0214-483c-edf9-d86261d0d35d"
      },
      "execution_count": 508,
      "outputs": [
        {
          "output_type": "stream",
          "name": "stdout",
          "text": [
            "Training set score: 0.8571\n",
            "Test set score: 0.8237\n"
          ]
        }
      ]
    },
    {
      "cell_type": "markdown",
      "source": [
        "Here, the training-set accuracy score is 0.8571 while the test-set accuracy to be 0.8237. These two values are quite comparable. So, there is no sign of underfitting. \n"
      ],
      "metadata": {
        "id": "QmKdIf5N5ie1"
      }
    },
    {
      "cell_type": "markdown",
      "source": [
        "Now, based on the analysis above, we can conclude that best fitting model (neither overfitting and underfitting) is a model with tuning hyperparameter, balanced data and feature selection.\n",
        "\n",
        "\n",
        "But, it does not give the underlying distribution of values. Also, it does not tell anything about the type of errors our classifer is making. \n",
        "\n",
        "\n",
        "We have another tool called `Confusion matrix` that comes to our rescue."
      ],
      "metadata": {
        "id": "-Pq9v5XO9vX-"
      }
    },
    {
      "cell_type": "markdown",
      "source": [
        "## 7. Evaluation"
      ],
      "metadata": {
        "id": "IwETb8gv_0Bj"
      }
    },
    {
      "cell_type": "code",
      "source": [
        "# Print the Confusion Matrix and slice it into four pieces\n",
        "\n",
        "from sklearn.metrics import confusion_matrix, classification_report\n",
        "\n",
        "cm = confusion_matrix(y_test, y_pred_gini)\n",
        "\n",
        "print(\"Model 1: Decision Tree with Gini Index\")\n",
        "print('Confusion matrix\\n\\n', cm)\n",
        "print(classification_report(y_test, y_pred_gini))"
      ],
      "metadata": {
        "id": "Sq_gNFFg_zsd",
        "colab": {
          "base_uri": "https://localhost:8080/"
        },
        "outputId": "e2e30c00-52c6-4475-e9cb-a39e3cd15139"
      },
      "execution_count": 509,
      "outputs": [
        {
          "output_type": "stream",
          "name": "stdout",
          "text": [
            "Model 1: Decision Tree with Gini Index\n",
            "Confusion matrix\n",
            "\n",
            " [[ 76   4   1   2]\n",
            " [  0  10   0   1]\n",
            " [ 10   0 225   0]\n",
            " [  2   2   0  13]]\n",
            "              precision    recall  f1-score   support\n",
            "\n",
            "         acc       0.86      0.92      0.89        83\n",
            "        good       0.62      0.91      0.74        11\n",
            "       unacc       1.00      0.96      0.98       235\n",
            "       vgood       0.81      0.76      0.79        17\n",
            "\n",
            "    accuracy                           0.94       346\n",
            "   macro avg       0.82      0.89      0.85       346\n",
            "weighted avg       0.94      0.94      0.94       346\n",
            "\n"
          ]
        }
      ]
    },
    {
      "cell_type": "code",
      "source": [
        "# Print the Confusion Matrix and slice it into four pieces\n",
        "\n",
        "from sklearn.metrics import confusion_matrix, classification_report\n",
        "\n",
        "cm = confusion_matrix(y_test, y_pred_feature_gini)\n",
        "\n",
        "print(\"Model 2: Decision Tree with Gini Index & Feature Selection\")\n",
        "print('Confusion matrix\\n\\n', cm)\n",
        "print(classification_report(y_test, y_pred_feature_gini))"
      ],
      "metadata": {
        "id": "jkqBbD_2g2v1",
        "colab": {
          "base_uri": "https://localhost:8080/"
        },
        "outputId": "54aa5253-a66d-482c-ecfb-f263e4bd41e4"
      },
      "execution_count": 511,
      "outputs": [
        {
          "output_type": "stream",
          "name": "stdout",
          "text": [
            "Model 2: Decision Tree with Gini Index & Feature Selection\n",
            "Confusion matrix\n",
            "\n",
            " [[ 75   7   0   1]\n",
            " [  0   9   0   2]\n",
            " [  8   0 227   0]\n",
            " [  3   3   0  11]]\n",
            "              precision    recall  f1-score   support\n",
            "\n",
            "         acc       0.87      0.90      0.89        83\n",
            "        good       0.47      0.82      0.60        11\n",
            "       unacc       1.00      0.97      0.98       235\n",
            "       vgood       0.79      0.65      0.71        17\n",
            "\n",
            "    accuracy                           0.93       346\n",
            "   macro avg       0.78      0.83      0.79       346\n",
            "weighted avg       0.94      0.93      0.93       346\n",
            "\n"
          ]
        }
      ]
    },
    {
      "cell_type": "code",
      "source": [
        "# Print the Confusion Matrix and slice it into four pieces\n",
        "\n",
        "from sklearn.metrics import confusion_matrix, classification_report\n",
        "\n",
        "cm = confusion_matrix(y_test, y_pred_en)\n",
        "\n",
        "print(\"Model 3: Decision Tree with Entropy\")\n",
        "print('Confusion matrix\\n\\n', cm)\n",
        "print(classification_report(y_test, y_pred_en))"
      ],
      "metadata": {
        "colab": {
          "base_uri": "https://localhost:8080/"
        },
        "id": "3c6aWVP2Pide",
        "outputId": "b438e31b-7497-45d9-fc56-d90eb444cf5a"
      },
      "execution_count": 512,
      "outputs": [
        {
          "output_type": "stream",
          "name": "stdout",
          "text": [
            "Model 3: Decision Tree with Entropy\n",
            "Confusion matrix\n",
            "\n",
            " [[ 76   6   1   0]\n",
            " [  0  10   0   1]\n",
            " [ 15   0 220   0]\n",
            " [  2   2   0  13]]\n",
            "              precision    recall  f1-score   support\n",
            "\n",
            "         acc       0.82      0.92      0.86        83\n",
            "        good       0.56      0.91      0.69        11\n",
            "       unacc       1.00      0.94      0.96       235\n",
            "       vgood       0.93      0.76      0.84        17\n",
            "\n",
            "    accuracy                           0.92       346\n",
            "   macro avg       0.82      0.88      0.84       346\n",
            "weighted avg       0.94      0.92      0.93       346\n",
            "\n"
          ]
        }
      ]
    },
    {
      "cell_type": "code",
      "source": [
        "# Print the Confusion Matrix and slice it into four pieces\n",
        "\n",
        "from sklearn.metrics import confusion_matrix, classification_report\n",
        "\n",
        "cm = confusion_matrix(y_test, y_pred_feature_en)\n",
        "\n",
        "print(\"Model 4: Decision Tree with Entropy & Feature Selection\")\n",
        "print('Confusion matrix\\n\\n', cm)\n",
        "print(classification_report(y_test, y_pred_feature_en))"
      ],
      "metadata": {
        "colab": {
          "base_uri": "https://localhost:8080/"
        },
        "id": "I8RkU6XePssN",
        "outputId": "6896dc60-445f-4348-a4db-da5d52adf6fb"
      },
      "execution_count": 514,
      "outputs": [
        {
          "output_type": "stream",
          "name": "stdout",
          "text": [
            "Model 4: Decision Tree with Entropy & Feature Selection\n",
            "Confusion matrix\n",
            "\n",
            " [[ 75   7   0   1]\n",
            " [  0   9   0   2]\n",
            " [ 13   0 222   0]\n",
            " [  3   3   0  11]]\n",
            "              precision    recall  f1-score   support\n",
            "\n",
            "         acc       0.82      0.90      0.86        83\n",
            "        good       0.47      0.82      0.60        11\n",
            "       unacc       1.00      0.94      0.97       235\n",
            "       vgood       0.79      0.65      0.71        17\n",
            "\n",
            "    accuracy                           0.92       346\n",
            "   macro avg       0.77      0.83      0.79       346\n",
            "weighted avg       0.93      0.92      0.92       346\n",
            "\n"
          ]
        }
      ]
    },
    {
      "cell_type": "code",
      "source": [
        "# Print the Confusion Matrix and slice it into four pieces\n",
        "\n",
        "from sklearn.metrics import confusion_matrix, classification_report\n",
        "\n",
        "cm = confusion_matrix(y_test, y_pred_tune)\n",
        "\n",
        "print(\"Model 5: Decision Tree with Tune Hyperparameter GridSearchCV\")\n",
        "print('Confusion matrix\\n\\n', cm)\n",
        "print(classification_report(y_test, y_pred_tune))"
      ],
      "metadata": {
        "colab": {
          "base_uri": "https://localhost:8080/"
        },
        "id": "0QOzQd88P0hm",
        "outputId": "f8b27b45-8b07-4249-8962-45819aa29817"
      },
      "execution_count": 516,
      "outputs": [
        {
          "output_type": "stream",
          "name": "stdout",
          "text": [
            "Model 5: Decision Tree with Tune Hyperparameter GridSearchCV\n",
            "Confusion matrix\n",
            "\n",
            " [[ 81   2   0   0]\n",
            " [  1   9   0   1]\n",
            " [ 10   0 225   0]\n",
            " [  4   3   0  10]]\n",
            "              precision    recall  f1-score   support\n",
            "\n",
            "         acc       0.84      0.98      0.91        83\n",
            "        good       0.64      0.82      0.72        11\n",
            "       unacc       1.00      0.96      0.98       235\n",
            "       vgood       0.91      0.59      0.71        17\n",
            "\n",
            "    accuracy                           0.94       346\n",
            "   macro avg       0.85      0.83      0.83       346\n",
            "weighted avg       0.95      0.94      0.94       346\n",
            "\n"
          ]
        }
      ]
    },
    {
      "cell_type": "code",
      "source": [
        "# Print the Confusion Matrix and slice it into four pieces\n",
        "\n",
        "from sklearn.metrics import confusion_matrix, classification_report\n",
        "\n",
        "cm = confusion_matrix(y_test, y_pred_tune_feature)\n",
        "\n",
        "print(\"Model 6: Decision Tree with Tune Hyperparameter GridSearchCV & Feature Selection\")\n",
        "print('Confusion matrix\\n\\n', cm)\n",
        "print(classification_report(y_test, y_pred_tune_feature))"
      ],
      "metadata": {
        "colab": {
          "base_uri": "https://localhost:8080/"
        },
        "id": "dXVoiDkTP-0G",
        "outputId": "48c1dc3c-7cf2-4d9f-dad3-5e879133eb81"
      },
      "execution_count": 517,
      "outputs": [
        {
          "output_type": "stream",
          "name": "stdout",
          "text": [
            "Model 6: Decision Tree with Tune Hyperparameter GridSearchCV & Feature Selection\n",
            "Confusion matrix\n",
            "\n",
            " [[ 78   5   0   0]\n",
            " [  1   9   0   1]\n",
            " [  8   0 227   0]\n",
            " [  4   3   0  10]]\n",
            "              precision    recall  f1-score   support\n",
            "\n",
            "         acc       0.86      0.94      0.90        83\n",
            "        good       0.53      0.82      0.64        11\n",
            "       unacc       1.00      0.97      0.98       235\n",
            "       vgood       0.91      0.59      0.71        17\n",
            "\n",
            "    accuracy                           0.94       346\n",
            "   macro avg       0.82      0.83      0.81       346\n",
            "weighted avg       0.95      0.94      0.94       346\n",
            "\n"
          ]
        }
      ]
    },
    {
      "cell_type": "code",
      "source": [
        "# Print the Confusion Matrix and slice it into four pieces\n",
        "\n",
        "from sklearn.metrics import confusion_matrix, classification_report\n",
        "\n",
        "cm = confusion_matrix(y_test, y_pred_rf)\n",
        "\n",
        "print(\"Model 7: Random Forest\")\n",
        "print('Confusion matrix\\n\\n', cm)\n",
        "print(classification_report(y_test, y_pred_rf))"
      ],
      "metadata": {
        "colab": {
          "base_uri": "https://localhost:8080/"
        },
        "id": "TAGNSvyXQHzF",
        "outputId": "7b4d346d-9afd-4933-b9e6-2e0e140fc2d3"
      },
      "execution_count": 518,
      "outputs": [
        {
          "output_type": "stream",
          "name": "stdout",
          "text": [
            "Model 7: Random Forest\n",
            "Confusion matrix\n",
            "\n",
            " [[ 83   0   0   0]\n",
            " [  7   4   0   0]\n",
            " [ 42   0 193   0]\n",
            " [ 11   1   0   5]]\n",
            "              precision    recall  f1-score   support\n",
            "\n",
            "         acc       0.58      1.00      0.73        83\n",
            "        good       0.80      0.36      0.50        11\n",
            "       unacc       1.00      0.82      0.90       235\n",
            "       vgood       1.00      0.29      0.45        17\n",
            "\n",
            "    accuracy                           0.82       346\n",
            "   macro avg       0.85      0.62      0.65       346\n",
            "weighted avg       0.89      0.82      0.83       346\n",
            "\n"
          ]
        }
      ]
    },
    {
      "cell_type": "markdown",
      "source": [
        "## 17. Results and conclusion\n",
        "\n",
        "\n",
        "1.\tIn this project, I build a Decision-Tree Classifier and Random-Forest Classifier model to predict the safety of the car. I build seven (7) models:\n",
        "      \n",
        "\n",
        "*   Decision Tree Classifier with criterion gini index\n",
        "*   Decision Tree Classifier with criterion gini index and feature selection\n",
        "* Decision Tree Classifier with criterion entropy\n",
        "* Decision Tree Classifier with criterion entropy and feature selection\n",
        "* Decision Tree Classifier with Tune Hyperparameter GridSearchCV\n",
        "* Decision Tree Classifier with Tune Hyperparameter GridSearchCV and feature selection\n",
        "* Random Forest\n",
        "\n",
        "\n",
        "`entropy`. The model yields a very good performance as indicated by the model accuracy in both the cases which was found to be 0.8021.\n",
        "2.\tIn the model with criterion `gini index`, the training-set accuracy score is 0.7865 while the test-set accuracy to be 0.8021. These two values are quite comparable. So, there is no sign of overfitting.\n",
        "3.\tSimilarly, in the model with criterion `entropy`, the training-set accuracy score is 0.7865 while the test-set accuracy to be 0.8021.We get the same values as in the case with criterion `gini`. So, there is no sign of overfitting.\n",
        "4.\tIn both the cases, the training-set and test-set accuracy score is the same. It may happen because of small dataset.\n",
        "5.\tThe confusion matrix and classification report yields very good model performance."
      ],
      "metadata": {
        "id": "6B6dfD67Qde2"
      }
    },
    {
      "cell_type": "code",
      "source": [],
      "metadata": {
        "id": "zH3dMd_eRSfQ"
      },
      "execution_count": null,
      "outputs": []
    }
  ]
}